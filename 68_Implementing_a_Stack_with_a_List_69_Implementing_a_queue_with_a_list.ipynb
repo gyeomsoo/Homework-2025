{
  "nbformat": 4,
  "nbformat_minor": 0,
  "metadata": {
    "colab": {
      "provenance": [],
      "include_colab_link": true
    },
    "kernelspec": {
      "name": "python3",
      "display_name": "Python 3"
    },
    "language_info": {
      "name": "python"
    }
  },
  "cells": [
    {
      "cell_type": "markdown",
      "metadata": {
        "id": "view-in-github",
        "colab_type": "text"
      },
      "source": [
        "<a href=\"https://colab.research.google.com/github/gyeomsoo/Homework-2025/blob/main/68_Implementing_a_Stack_with_a_List_69_Implementing_a_queue_with_a_list.ipynb\" target=\"_parent\"><img src=\"https://colab.research.google.com/assets/colab-badge.svg\" alt=\"Open In Colab\"/></a>"
      ]
    },
    {
      "cell_type": "markdown",
      "source": [
        "# 68 리스트로 스택 구현하기"
      ],
      "metadata": {
        "id": "T7tPWcf8Faif"
      }
    },
    {
      "cell_type": "code",
      "source": [
        "mystack = []"
      ],
      "metadata": {
        "id": "uYxgl-XKGZ4Q"
      },
      "execution_count": 2,
      "outputs": []
    },
    {
      "cell_type": "code",
      "source": [
        "def putData(data):\n",
        "  mystack.append(data)"
      ],
      "metadata": {
        "id": "SQtjZk-bGerY"
      },
      "execution_count": 1,
      "outputs": []
    },
    {
      "cell_type": "code",
      "source": [
        "def popData():\n",
        "  if len(mystack) == 0:\n",
        "      return None\n",
        "  return mystack.pop()"
      ],
      "metadata": {
        "id": "-0mzE0bJGlPD"
      },
      "execution_count": 3,
      "outputs": []
    },
    {
      "cell_type": "code",
      "source": [
        "putData('사과')\n",
        "putData([1, 2, 3])\n",
        "putData(3.141592)\n",
        "print(f'스택상태: {mystack}')"
      ],
      "metadata": {
        "colab": {
          "base_uri": "https://localhost:8080/"
        },
        "id": "syb6GLljHOX0",
        "outputId": "639cf573-fde9-42f1-a3f1-70d81637654d"
      },
      "execution_count": 4,
      "outputs": [
        {
          "output_type": "stream",
          "name": "stdout",
          "text": [
            "스택상태: ['사과', [1, 2, 3], 3.141592]\n"
          ]
        }
      ]
    },
    {
      "cell_type": "code",
      "source": [
        "ret = popData()\n",
        "while ret != None:\n",
        "  print(f'스택에서 데이터 추출: {ret}')\n",
        "  print(f'스택상태: {mystack}')\n",
        "  print('--------------')\n",
        "  ret = popData()"
      ],
      "metadata": {
        "id": "zkDMJvarIUyY"
      },
      "execution_count": 24,
      "outputs": []
    },
    {
      "cell_type": "markdown",
      "source": [
        "# 69 리스트로 큐 구현하기"
      ],
      "metadata": {
        "id": "AKKnSTvUGI3i"
      }
    },
    {
      "cell_type": "code",
      "source": [
        "import collections\n",
        "myqueue = collections.deque([ ])"
      ],
      "metadata": {
        "id": "c1KhipRkIs_E"
      },
      "execution_count": 18,
      "outputs": []
    },
    {
      "cell_type": "code",
      "source": [
        "def putData(data):\n",
        "  myqueue.append(data)"
      ],
      "metadata": {
        "id": "xkFz8WeFJZlD"
      },
      "execution_count": 16,
      "outputs": []
    },
    {
      "cell_type": "code",
      "source": [
        "def popData():\n",
        "  if len(myqueue) == 0:\n",
        "    return None\n",
        "  return myqueue.popleft()"
      ],
      "metadata": {
        "id": "nainKI06JfGW"
      },
      "execution_count": 19,
      "outputs": []
    },
    {
      "cell_type": "code",
      "source": [
        "putData('사과')\n",
        "putData([1, 2, 3])\n",
        "putData(3.141592)\n",
        "print(f'큐상태: {myqueue}')"
      ],
      "metadata": {
        "colab": {
          "base_uri": "https://localhost:8080/"
        },
        "id": "vQ8-gw22Jme5",
        "outputId": "26c964e4-432c-4b7d-c8e0-a4956cdb6e91"
      },
      "execution_count": 20,
      "outputs": [
        {
          "output_type": "stream",
          "name": "stdout",
          "text": [
            "큐상태: deque(['사과', [1, 2, 3], 3.141592])\n"
          ]
        }
      ]
    },
    {
      "cell_type": "code",
      "source": [
        "ret = popData()\n",
        "while ret != None:\n",
        "  print(f'큐에서 데이터 추출: {ret}')\n",
        "  print(f'큐상태: {myqueue}')\n",
        "  print('--------------')\n",
        "  ret = popData()"
      ],
      "metadata": {
        "id": "Raz4ravNJy5m"
      },
      "execution_count": 25,
      "outputs": []
    }
  ]
}