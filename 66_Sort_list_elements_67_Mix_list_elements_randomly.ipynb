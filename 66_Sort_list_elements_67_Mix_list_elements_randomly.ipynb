{
  "nbformat": 4,
  "nbformat_minor": 0,
  "metadata": {
    "colab": {
      "provenance": [],
      "include_colab_link": true
    },
    "kernelspec": {
      "name": "python3",
      "display_name": "Python 3"
    },
    "language_info": {
      "name": "python"
    }
  },
  "cells": [
    {
      "cell_type": "markdown",
      "metadata": {
        "id": "view-in-github",
        "colab_type": "text"
      },
      "source": [
        "<a href=\"https://colab.research.google.com/github/gyeomsoo/Homework-2025/blob/main/66_Sort_list_elements_67_Mix_list_elements_randomly.ipynb\" target=\"_parent\"><img src=\"https://colab.research.google.com/assets/colab-badge.svg\" alt=\"Open In Colab\"/></a>"
      ]
    },
    {
      "cell_type": "markdown",
      "source": [
        "# 66 리스트 요소 정렬 : *list*.sort ()"
      ],
      "metadata": {
        "id": "NprPkqW8DONy"
      }
    },
    {
      "cell_type": "code",
      "source": [
        "nameLIst = ['Mary', 'Sams', 'Aemy', 'Tom', 'Michale', 'Bob', 'Kelly']\n",
        "nameLIst.sort()\n",
        "print(nameLIst)"
      ],
      "metadata": {
        "colab": {
          "base_uri": "https://localhost:8080/"
        },
        "id": "CxUO0WLzDgrv",
        "outputId": "a22bf5c0-6762-4e7a-de52-8582d67871d9"
      },
      "execution_count": 1,
      "outputs": [
        {
          "output_type": "stream",
          "name": "stdout",
          "text": [
            "['Aemy', 'Bob', 'Kelly', 'Mary', 'Michale', 'Sams', 'Tom']\n"
          ]
        }
      ]
    },
    {
      "cell_type": "code",
      "source": [
        "nameLIst = ['Mary', 'Sams', 'Aemy', 'Tom', 'Michale', 'Bob', 'Kelly']\n",
        "nameLIst.sort(reverse=True)\n",
        "print(nameLIst)"
      ],
      "metadata": {
        "colab": {
          "base_uri": "https://localhost:8080/"
        },
        "id": "fHckbr7BD6qB",
        "outputId": "6e3b52a2-f15f-45a9-ce91-ef8340f4cd2e"
      },
      "execution_count": 2,
      "outputs": [
        {
          "output_type": "stream",
          "name": "stdout",
          "text": [
            "['Tom', 'Sams', 'Michale', 'Mary', 'Kelly', 'Bob', 'Aemy']\n"
          ]
        }
      ]
    },
    {
      "cell_type": "markdown",
      "source": [
        "# 67 리스트 요소 무작위로 섞기 : random.shuffle ()"
      ],
      "metadata": {
        "id": "OKNx5dE5DVY4"
      }
    },
    {
      "cell_type": "code",
      "source": [
        "import random\n",
        "numList = list(range(1, 11))\n",
        "random.shuffle(numList)\n",
        "print(numList)"
      ],
      "metadata": {
        "colab": {
          "base_uri": "https://localhost:8080/"
        },
        "id": "uQRvyZzkEKQ1",
        "outputId": "20f14151-4274-4ca1-eeb3-6da3d69643db"
      },
      "execution_count": 10,
      "outputs": [
        {
          "output_type": "stream",
          "name": "stdout",
          "text": [
            "[5, 8, 1, 3, 2, 4, 9, 7, 6, 10]\n"
          ]
        }
      ]
    },
    {
      "cell_type": "code",
      "source": [
        "numList = list(range(1, 11))\n",
        "copied = numList.copy()\n",
        "random.shuffle(copied)\n",
        "print(f'numLIst: {numList}')\n",
        "print(f'copied: {copied}')\n"
      ],
      "metadata": {
        "colab": {
          "base_uri": "https://localhost:8080/"
        },
        "id": "7uFVnM_-ElUi",
        "outputId": "286ad81e-ace7-4a06-a90a-8dc7ed97cf88"
      },
      "execution_count": 15,
      "outputs": [
        {
          "output_type": "stream",
          "name": "stdout",
          "text": [
            "numLIst: [1, 2, 3, 4, 5, 6, 7, 8, 9, 10]\n",
            "copied: [7, 9, 4, 8, 6, 2, 1, 3, 5, 10]\n"
          ]
        }
      ]
    }
  ]
}