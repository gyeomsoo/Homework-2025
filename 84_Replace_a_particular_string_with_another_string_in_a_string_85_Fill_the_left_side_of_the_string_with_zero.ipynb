{
  "nbformat": 4,
  "nbformat_minor": 0,
  "metadata": {
    "colab": {
      "provenance": [],
      "include_colab_link": true
    },
    "kernelspec": {
      "name": "python3",
      "display_name": "Python 3"
    },
    "language_info": {
      "name": "python"
    }
  },
  "cells": [
    {
      "cell_type": "markdown",
      "metadata": {
        "id": "view-in-github",
        "colab_type": "text"
      },
      "source": [
        "<a href=\"https://colab.research.google.com/github/gyeomsoo/Homework-2025/blob/main/84_Replace_a_particular_string_with_another_string_in_a_string_85_Fill_the_left_side_of_the_string_with_zero.ipynb\" target=\"_parent\"><img src=\"https://colab.research.google.com/assets/colab-badge.svg\" alt=\"Open In Colab\"/></a>"
      ]
    },
    {
      "cell_type": "markdown",
      "source": [
        "# 84 문자열에서 특정 문자열을 다른 문자열로 바꾸기 : *str*.replace ()"
      ],
      "metadata": {
        "id": "dy29RadN5K7g"
      }
    },
    {
      "cell_type": "code",
      "source": [
        "text = '문자열: 파이썬에서 시퀀스 자료 중 하나임'\n",
        "ret = text.replace('문자열', '텍스트')\n",
        "print(ret)"
      ],
      "metadata": {
        "colab": {
          "base_uri": "https://localhost:8080/"
        },
        "id": "ep72ZIu85WvQ",
        "outputId": "882fd9b2-bba8-43db-e26b-a4a9bf1c6750"
      },
      "execution_count": 1,
      "outputs": [
        {
          "output_type": "stream",
          "name": "stdout",
          "text": [
            "텍스트: 파이썬에서 시퀀스 자료 중 하나임\n"
          ]
        }
      ]
    },
    {
      "cell_type": "code",
      "source": [
        "text = '매일 많은 일들이 일어납니다.'\n",
        "ret = text.replace('일', '사건')\n",
        "print(ret)"
      ],
      "metadata": {
        "colab": {
          "base_uri": "https://localhost:8080/"
        },
        "id": "XNOJCqUm5nEV",
        "outputId": "8d202cdc-2cf6-4cdf-9201-b73d53e24f63"
      },
      "execution_count": 2,
      "outputs": [
        {
          "output_type": "stream",
          "name": "stdout",
          "text": [
            "매사건 많은 사건들이 사건어납니다.\n"
          ]
        }
      ]
    },
    {
      "cell_type": "markdown",
      "source": [
        "# 85 문자열의 왼쪽을 0으로 채우기 : *str*.zfill ()"
      ],
      "metadata": {
        "id": "BDRRp3qT5whE"
      }
    },
    {
      "cell_type": "code",
      "source": [
        "numData = ['5', '27', '342', '1004']\n",
        "for numstr in numData:\n",
        "    ret = numstr.zfill(4)\n",
        "    print(ret)"
      ],
      "metadata": {
        "colab": {
          "base_uri": "https://localhost:8080/"
        },
        "id": "gwXsXjd952CB",
        "outputId": "97148d24-7a54-4c97-ca32-39b0f6c2796e"
      },
      "execution_count": 3,
      "outputs": [
        {
          "output_type": "stream",
          "name": "stdout",
          "text": [
            "0005\n",
            "0027\n",
            "0342\n",
            "1004\n"
          ]
        }
      ]
    },
    {
      "cell_type": "code",
      "source": [
        "numData = ['-5', '-27', '-342', '-1004']\n",
        "for numstr in numData:\n",
        "    ret = numstr.zfill(4)\n",
        "    print(ret)"
      ],
      "metadata": {
        "colab": {
          "base_uri": "https://localhost:8080/"
        },
        "id": "CRpdt5VV6LB4",
        "outputId": "2c627b41-fd81-4290-ef26-024e03a7f2e5"
      },
      "execution_count": 4,
      "outputs": [
        {
          "output_type": "stream",
          "name": "stdout",
          "text": [
            "-005\n",
            "-027\n",
            "-342\n",
            "-1004\n"
          ]
        }
      ]
    }
  ]
}