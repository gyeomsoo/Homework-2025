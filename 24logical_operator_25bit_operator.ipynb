{
  "nbformat": 4,
  "nbformat_minor": 0,
  "metadata": {
    "colab": {
      "provenance": [],
      "include_colab_link": true
    },
    "kernelspec": {
      "name": "python3",
      "display_name": "Python 3"
    },
    "language_info": {
      "name": "python"
    }
  },
  "cells": [
    {
      "cell_type": "markdown",
      "metadata": {
        "id": "view-in-github",
        "colab_type": "text"
      },
      "source": [
        "<a href=\"https://colab.research.google.com/github/gyeomsoo/Homework-2025/blob/main/24logical_operator_25bit_operator.ipynb\" target=\"_parent\"><img src=\"https://colab.research.google.com/assets/colab-badge.svg\" alt=\"Open In Colab\"/></a>"
      ]
    },
    {
      "cell_type": "markdown",
      "source": [
        "# 24 논리연산자 : and, or, not"
      ],
      "metadata": {
        "id": "YO3NeJfe140z"
      }
    },
    {
      "cell_type": "code",
      "source": [
        "x = 1; y = 2\n",
        "strData1 = 'Hello'; strData2 = 'python'\n",
        "flag1 = x == y                # False\n",
        "flag2 = x < y                 # True\n",
        "flag3 = strData1 != strData2  # True\n",
        "flag4 = strData1 > strData2   # False\n",
        "\n",
        "print(flag1 and flag2)\n",
        "print(flag2 and flag3)\n",
        "print(flag3 or flag4)\n",
        "print(flag1 or flag4)\n",
        "print(not flag1)\n",
        "print(not flag2)"
      ],
      "metadata": {
        "colab": {
          "base_uri": "https://localhost:8080/"
        },
        "id": "nVszoYGD19q1",
        "outputId": "341d829b-3eab-45c8-cb14-4150e9a3e4ae"
      },
      "execution_count": 2,
      "outputs": [
        {
          "output_type": "stream",
          "name": "stdout",
          "text": [
            "False\n",
            "True\n",
            "True\n",
            "False\n",
            "True\n",
            "False\n"
          ]
        }
      ]
    },
    {
      "cell_type": "markdown",
      "source": [
        "# 25 비트연산자 : &, |, ^, >>, <<"
      ],
      "metadata": {
        "id": "ZSvsSC323JJj"
      }
    },
    {
      "cell_type": "code",
      "source": [
        "bit1 = 0x61; bit2 = 0x62\n",
        "print(hex(bit1 & bit2))    # 0x60이 출력됨\n",
        "print(hex(bit1 | bit2))    # 0x63이 출력됨\n",
        "print(hex(bit1 ^ bit2))    # 0x3이 출력됨\n",
        "print(hex(bit1 >> 2))   # 0x30이 출력됨\n",
        "print(hex(bit1 << 2))   # 0x184가 출력됨"
      ],
      "metadata": {
        "colab": {
          "base_uri": "https://localhost:8080/"
        },
        "id": "YFynH4Nz3RLM",
        "outputId": "535a5945-1b8e-4115-f923-6ea7fe4bfdbb"
      },
      "execution_count": 4,
      "outputs": [
        {
          "output_type": "stream",
          "name": "stdout",
          "text": [
            "0x60\n",
            "0x63\n",
            "0x3\n",
            "0x18\n",
            "0x184\n"
          ]
        }
      ]
    },
    {
      "cell_type": "code",
      "source": [
        "byte1 = 0x6b\n",
        "\n",
        "# 하위 4비트 추출\n",
        "lower_4bit = byte1 & 0x0f\n",
        "\n",
        "# 상위 4비트 추출\n",
        "upper_4bit = (byte1 >> 4) & 0x0f\n",
        "\n",
        "print(hex(lower_4bit))\n",
        "print(hex(upper_4bit))"
      ],
      "metadata": {
        "colab": {
          "base_uri": "https://localhost:8080/"
        },
        "id": "YLWlJZ4U4bRV",
        "outputId": "8bc7ca56-3996-4577-b715-d6eadcbb1c9b"
      },
      "execution_count": 10,
      "outputs": [
        {
          "output_type": "stream",
          "name": "stdout",
          "text": [
            "0xb\n",
            "0x6\n"
          ]
        }
      ]
    }
  ]
}