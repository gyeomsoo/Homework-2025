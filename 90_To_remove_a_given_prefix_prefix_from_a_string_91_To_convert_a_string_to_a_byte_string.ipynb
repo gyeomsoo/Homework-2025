{
  "nbformat": 4,
  "nbformat_minor": 0,
  "metadata": {
    "colab": {
      "provenance": [],
      "include_colab_link": true
    },
    "kernelspec": {
      "name": "python3",
      "display_name": "Python 3"
    },
    "language_info": {
      "name": "python"
    }
  },
  "cells": [
    {
      "cell_type": "markdown",
      "metadata": {
        "id": "view-in-github",
        "colab_type": "text"
      },
      "source": [
        "<a href=\"https://colab.research.google.com/github/gyeomsoo/Homework-2025/blob/main/90_To_remove_a_given_prefix_prefix_from_a_string_91_To_convert_a_string_to_a_byte_string.ipynb\" target=\"_parent\"><img src=\"https://colab.research.google.com/assets/colab-badge.svg\" alt=\"Open In Colab\"/></a>"
      ]
    },
    {
      "cell_type": "markdown",
      "source": [
        "# 90 문자열에서 주어진 접두어/접미어 제거하기 : *str*.removeprefix (), *str*.removesuffix ()"
      ],
      "metadata": {
        "id": "UKnaMZKw8mwb"
      }
    },
    {
      "cell_type": "code",
      "source": [
        "strData = '[info]Seoul is the captial of Korea.'\n",
        "cityinfo = strData.removeprefix('[info]')\n",
        "print(cityinfo)"
      ],
      "metadata": {
        "colab": {
          "base_uri": "https://localhost:8080/"
        },
        "id": "v1k0rgwN9OGS",
        "outputId": "e1be875b-f534-42f6-a4a4-d2a947cfb8f1"
      },
      "execution_count": 1,
      "outputs": [
        {
          "output_type": "stream",
          "name": "stdout",
          "text": [
            "Seoul is the captial of Korea.\n"
          ]
        }
      ]
    },
    {
      "cell_type": "code",
      "source": [
        "strData = '이것으로 문장을 마무리합니다.<EOD>'\n",
        "ret = strData.removesuffix('<EOD>')\n",
        "print(ret)"
      ],
      "metadata": {
        "colab": {
          "base_uri": "https://localhost:8080/"
        },
        "id": "Wgtlw1St9hm2",
        "outputId": "766480d9-0ed3-4ed1-ceb2-1ba2dfb67ca0"
      },
      "execution_count": 3,
      "outputs": [
        {
          "output_type": "stream",
          "name": "stdout",
          "text": [
            "이것으로 문장을 마무리합니다.\n"
          ]
        }
      ]
    },
    {
      "cell_type": "markdown",
      "source": [
        "# 91 문자열을 바이트 문자열로 변환하기 : *str*.encode ()"
      ],
      "metadata": {
        "id": "xEUt5JMi8m3o"
      }
    },
    {
      "cell_type": "code",
      "source": [
        "strData = 'python'\n",
        "byteData = strData.encode()\n",
        "print(byteData)"
      ],
      "metadata": {
        "colab": {
          "base_uri": "https://localhost:8080/"
        },
        "id": "Ax2FyXrh8sBT",
        "outputId": "93087f22-cfda-4191-f9ec-7c8c5842452a"
      },
      "execution_count": 4,
      "outputs": [
        {
          "output_type": "stream",
          "name": "stdout",
          "text": [
            "b'python'\n"
          ]
        }
      ]
    },
    {
      "cell_type": "code",
      "source": [
        "for idx, c in enumerate(strData):\n",
        "  print(f'strData[{idx}] = {c}')"
      ],
      "metadata": {
        "colab": {
          "base_uri": "https://localhost:8080/"
        },
        "id": "qs0_m6e98r8V",
        "outputId": "d060d27c-4eeb-42ee-e996-cd548454a2f4"
      },
      "execution_count": 5,
      "outputs": [
        {
          "output_type": "stream",
          "name": "stdout",
          "text": [
            "strData[0] = p\n",
            "strData[1] = y\n",
            "strData[2] = t\n",
            "strData[3] = h\n",
            "strData[4] = o\n",
            "strData[5] = n\n"
          ]
        }
      ]
    },
    {
      "cell_type": "code",
      "source": [
        "for idx, c in enumerate(byteData):\n",
        "  print(f'byteData[{idx}] = {c}, {hex(c)}')"
      ],
      "metadata": {
        "colab": {
          "base_uri": "https://localhost:8080/"
        },
        "id": "6ip8AWRT8r1G",
        "outputId": "11007b62-f91d-4a1e-eb70-aa0c338996e4"
      },
      "execution_count": 6,
      "outputs": [
        {
          "output_type": "stream",
          "name": "stdout",
          "text": [
            "byteData[0] = 112, 0x70\n",
            "byteData[1] = 121, 0x79\n",
            "byteData[2] = 116, 0x74\n",
            "byteData[3] = 104, 0x68\n",
            "byteData[4] = 111, 0x6f\n",
            "byteData[5] = 110, 0x6e\n"
          ]
        }
      ]
    },
    {
      "cell_type": "code",
      "source": [
        "strData = '파이썬'\n",
        "byteData = strData.encode()\n",
        "print(byteData)"
      ],
      "metadata": {
        "colab": {
          "base_uri": "https://localhost:8080/"
        },
        "id": "mf1Nmha08oqk",
        "outputId": "fe98adae-ef5f-4958-e1c3-52b9dcc7f529"
      },
      "execution_count": 7,
      "outputs": [
        {
          "output_type": "stream",
          "name": "stdout",
          "text": [
            "b'\\xed\\x8c\\x8c\\xec\\x9d\\xb4\\xec\\x8d\\xac'\n"
          ]
        }
      ]
    },
    {
      "cell_type": "code",
      "source": [
        "strData = '파이썬'\n",
        "byteData = strData.encode('CP949')\n",
        "print(byteData)"
      ],
      "metadata": {
        "colab": {
          "base_uri": "https://localhost:8080/"
        },
        "id": "3lcMY6fD8pdR",
        "outputId": "524dcd26-e3dc-4f88-d65e-e8b407e832f9"
      },
      "execution_count": 8,
      "outputs": [
        {
          "output_type": "stream",
          "name": "stdout",
          "text": [
            "b'\\xc6\\xc4\\xc0\\xcc\\xbd\\xe3'\n"
          ]
        }
      ]
    }
  ]
}