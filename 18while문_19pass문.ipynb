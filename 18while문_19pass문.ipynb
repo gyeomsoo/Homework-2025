{
  "nbformat": 4,
  "nbformat_minor": 0,
  "metadata": {
    "colab": {
      "provenance": [],
      "include_colab_link": true
    },
    "kernelspec": {
      "name": "python3",
      "display_name": "Python 3"
    },
    "language_info": {
      "name": "python"
    }
  },
  "cells": [
    {
      "cell_type": "markdown",
      "metadata": {
        "id": "view-in-github",
        "colab_type": "text"
      },
      "source": [
        "<a href=\"https://colab.research.google.com/github/gyeomsoo/Homework-2025/blob/main/18while%EB%AC%B8_19pass%EB%AC%B8.ipynb\" target=\"_parent\"><img src=\"https://colab.research.google.com/assets/colab-badge.svg\" alt=\"Open In Colab\"/></a>"
      ]
    },
    {
      "cell_type": "markdown",
      "source": [
        "# 18 while 문"
      ],
      "metadata": {
        "id": "nOpdI7p-zwMV"
      }
    },
    {
      "cell_type": "code",
      "source": [
        "while 조건\n",
        "  조건이 참일 때 반복 실행 코드\n",
        "  ***\n",
        "  continue      #while은 처음으로 이동하여 반복 실행 계속\n",
        "  ***\n",
        "  break         #while문 탈출"
      ],
      "metadata": {
        "id": "WCunJ0jvz11d"
      },
      "execution_count": null,
      "outputs": []
    },
    {
      "cell_type": "code",
      "source": [
        "x = 0\n",
        "while x < 10:\n",
        "  x = x + 1\n",
        "  if x < 3:\n",
        "    continue\n",
        "\n",
        "  print(x)\n",
        "  if x > 4:\n",
        "    break"
      ],
      "metadata": {
        "colab": {
          "base_uri": "https://localhost:8080/"
        },
        "id": "VvqcMkt4z2CO",
        "outputId": "47c292ac-2db9-447b-be76-263a2503e0fb"
      },
      "execution_count": 2,
      "outputs": [
        {
          "output_type": "stream",
          "name": "stdout",
          "text": [
            "3\n",
            "4\n",
            "5\n"
          ]
        }
      ]
    },
    {
      "cell_type": "code",
      "source": [
        "n = 1\n",
        "total = 0\n",
        "while True:\n",
        "  total = total + n\n",
        "  if total > 100000:\n",
        "    print('1 + 2 + ... + n값이 10만 보다 커지게 되는 :n', n)\n",
        "    print('이 때 총합은', total)\n",
        "    break\n",
        "  n = n + 1"
      ],
      "metadata": {
        "colab": {
          "base_uri": "https://localhost:8080/"
        },
        "id": "x6ObcjK-z2TZ",
        "outputId": "d270db56-c713-401e-eee4-432e0991cf9d"
      },
      "execution_count": 3,
      "outputs": [
        {
          "output_type": "stream",
          "name": "stdout",
          "text": [
            "1 + 2 + ... + n값이 10만 보다 커지게 되는 :n 447\n",
            "이 때 총합은 100128\n"
          ]
        }
      ]
    },
    {
      "cell_type": "markdown",
      "source": [
        "# 19 pass 문"
      ],
      "metadata": {
        "id": "PrvV_zKiz2jC"
      }
    },
    {
      "cell_type": "code",
      "source": [
        "for sport in ['축구', '야구', '배구', '농구']:\n",
        "  if sport == '축구':\n",
        "    pass\n",
        "\n",
        "  if sport == '야구':\n",
        "    pass"
      ],
      "metadata": {
        "id": "_LrVrHnA1nFD"
      },
      "execution_count": 5,
      "outputs": []
    },
    {
      "cell_type": "code",
      "source": [
        "def fetImageLink(url):\n",
        "  pass"
      ],
      "metadata": {
        "id": "PRm54TAc3Gxh"
      },
      "execution_count": 6,
      "outputs": []
    }
  ]
}