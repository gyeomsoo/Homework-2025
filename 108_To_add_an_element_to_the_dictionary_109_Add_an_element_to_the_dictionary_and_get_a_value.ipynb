{
  "nbformat": 4,
  "nbformat_minor": 0,
  "metadata": {
    "colab": {
      "provenance": [],
      "include_colab_link": true
    },
    "kernelspec": {
      "name": "python3",
      "display_name": "Python 3"
    },
    "language_info": {
      "name": "python"
    }
  },
  "cells": [
    {
      "cell_type": "markdown",
      "metadata": {
        "id": "view-in-github",
        "colab_type": "text"
      },
      "source": [
        "<a href=\"https://colab.research.google.com/github/gyeomsoo/Homework-2025/blob/main/108_To_add_an_element_to_the_dictionary_109_Add_an_element_to_the_dictionary_and_get_a_value.ipynb\" target=\"_parent\"><img src=\"https://colab.research.google.com/assets/colab-badge.svg\" alt=\"Open In Colab\"/></a>"
      ]
    },
    {
      "cell_type": "markdown",
      "source": [
        "# 108 딕셔너리에 요소 추가하기 : *d*[*key*] = *val*"
      ],
      "metadata": {
        "id": "oIeM3U3BpyK-"
      }
    },
    {
      "cell_type": "code",
      "source": [
        "nameList = 'Mary', 'Cris', 'Aimy', 'Tom', 'Bob'\n",
        "population = [10999, 2111, 9778, 20245, 27115]\n",
        "names = {}                # 빈 딕셔너리 정의\n",
        "for k, v in zip(nameList, population):\n",
        "  names[k] = v\n",
        "  print(names)"
      ],
      "metadata": {
        "colab": {
          "base_uri": "https://localhost:8080/"
        },
        "id": "IIdaTajop7r1",
        "outputId": "2a867ce3-f1a0-45ac-9457-4d966c531d75"
      },
      "execution_count": 2,
      "outputs": [
        {
          "output_type": "stream",
          "name": "stdout",
          "text": [
            "{'Mary': 10999}\n",
            "{'Mary': 10999, 'Cris': 2111}\n",
            "{'Mary': 10999, 'Cris': 2111, 'Aimy': 9778}\n",
            "{'Mary': 10999, 'Cris': 2111, 'Aimy': 9778, 'Tom': 20245}\n",
            "{'Mary': 10999, 'Cris': 2111, 'Aimy': 9778, 'Tom': 20245, 'Bob': 27115}\n"
          ]
        }
      ]
    },
    {
      "cell_type": "code",
      "source": [
        "names['Mary'] = 20000\n",
        "print(names)"
      ],
      "metadata": {
        "colab": {
          "base_uri": "https://localhost:8080/"
        },
        "id": "inikwT8fqhMQ",
        "outputId": "75fe3671-bed4-42d4-9255-f3dab6b849b1"
      },
      "execution_count": 3,
      "outputs": [
        {
          "output_type": "stream",
          "name": "stdout",
          "text": [
            "{'Mary': 20000, 'Cris': 2111, 'Aimy': 9778, 'Tom': 20245, 'Bob': 27115}\n"
          ]
        }
      ]
    },
    {
      "cell_type": "markdown",
      "source": [
        "# 109 딕셔너리에 요소를 추가하고 값을 얻기 : *d*.setdefault ()"
      ],
      "metadata": {
        "id": "Vi1tq9M5qsU_"
      }
    },
    {
      "cell_type": "code",
      "source": [
        "names = {'Mary':10999, 'Cris':2111, 'Aimy':9778}\n",
        "population = names.setdefault('Sams')\n",
        "print(f'names: {names}\\npopulation: {population}')"
      ],
      "metadata": {
        "colab": {
          "base_uri": "https://localhost:8080/"
        },
        "id": "D1Hsl5xwqr8J",
        "outputId": "45070454-062c-40c2-ff30-a1806da7bdfb"
      },
      "execution_count": 4,
      "outputs": [
        {
          "output_type": "stream",
          "name": "stdout",
          "text": [
            "names: {'Mary': 10999, 'Cris': 2111, 'Aimy': 9778, 'Sams': None}\n",
            "population: None\n"
          ]
        }
      ]
    },
    {
      "cell_type": "code",
      "source": [
        "population = names.setdefault('Sams', 100)\n",
        "print(f'names: {names}\\npopulation: {population}')"
      ],
      "metadata": {
        "colab": {
          "base_uri": "https://localhost:8080/"
        },
        "id": "gOCxGS7prUxf",
        "outputId": "3432cde2-c945-4ee2-86ec-ee7a46e27333"
      },
      "execution_count": 5,
      "outputs": [
        {
          "output_type": "stream",
          "name": "stdout",
          "text": [
            "names: {'Mary': 10999, 'Cris': 2111, 'Aimy': 9778, 'Sams': None}\n",
            "population: None\n"
          ]
        }
      ]
    },
    {
      "cell_type": "code",
      "source": [
        "population = names.setdefault('Tom', 1004)\n",
        "print(f'names: {names}\\npopulation: {population}')"
      ],
      "metadata": {
        "colab": {
          "base_uri": "https://localhost:8080/"
        },
        "id": "o9LYV4nnruLj",
        "outputId": "cc3bb5b4-1448-4c0d-b6b9-444baecded68"
      },
      "execution_count": 6,
      "outputs": [
        {
          "output_type": "stream",
          "name": "stdout",
          "text": [
            "names: {'Mary': 10999, 'Cris': 2111, 'Aimy': 9778, 'Sams': None, 'Tom': 1004}\n",
            "population: 1004\n"
          ]
        }
      ]
    }
  ]
}