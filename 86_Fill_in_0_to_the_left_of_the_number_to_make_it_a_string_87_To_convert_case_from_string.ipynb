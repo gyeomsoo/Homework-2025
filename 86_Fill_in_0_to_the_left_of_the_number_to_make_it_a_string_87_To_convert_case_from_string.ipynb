{
  "nbformat": 4,
  "nbformat_minor": 0,
  "metadata": {
    "colab": {
      "provenance": [],
      "include_colab_link": true
    },
    "kernelspec": {
      "name": "python3",
      "display_name": "Python 3"
    },
    "language_info": {
      "name": "python"
    }
  },
  "cells": [
    {
      "cell_type": "markdown",
      "metadata": {
        "id": "view-in-github",
        "colab_type": "text"
      },
      "source": [
        "<a href=\"https://colab.research.google.com/github/gyeomsoo/Homework-2025/blob/main/86_Fill_in_0_to_the_left_of_the_number_to_make_it_a_string_87_To_convert_case_from_string.ipynb\" target=\"_parent\"><img src=\"https://colab.research.google.com/assets/colab-badge.svg\" alt=\"Open In Colab\"/></a>"
      ]
    },
    {
      "cell_type": "markdown",
      "source": [
        "# 86 숫자 왼쪽에 0을 채워서 문자열로 만들기 : format ()"
      ],
      "metadata": {
        "id": "gLsbsAR04iAv"
      }
    },
    {
      "cell_type": "code",
      "source": [
        "names = ['유비', '관우', '장비', '제갈량']\n",
        "for idx, name in enumerate(names, start=1):\n",
        "  order = format(idx, '03')\n",
        "  print(f'{order}-{name}')"
      ],
      "metadata": {
        "colab": {
          "base_uri": "https://localhost:8080/"
        },
        "id": "pRuvNbnS4qBv",
        "outputId": "cebbd79c-20be-47d5-baf2-32d29763e49d"
      },
      "execution_count": 3,
      "outputs": [
        {
          "output_type": "stream",
          "name": "stdout",
          "text": [
            "001-유비\n",
            "002-관우\n",
            "003-장비\n",
            "004-제갈량\n"
          ]
        }
      ]
    },
    {
      "cell_type": "markdown",
      "source": [
        "# 87 문자열에서 대소문자 변환하기 : *str*.upper (), *str*.lower ()"
      ],
      "metadata": {
        "id": "2d8Tz_zU49m3"
      }
    },
    {
      "cell_type": "code",
      "source": [
        "lyrics = 'A lot of Things occur Each Day!'\n",
        "print(lyrics.upper())\n",
        "print(lyrics.lower())\n",
        "print(lyrics)"
      ],
      "metadata": {
        "colab": {
          "base_uri": "https://localhost:8080/"
        },
        "id": "yeumbJDm49X2",
        "outputId": "a5247fd7-b3b2-424b-de5e-cc7e2baa6e13"
      },
      "execution_count": 5,
      "outputs": [
        {
          "output_type": "stream",
          "name": "stdout",
          "text": [
            "A LOT OF THINGS OCCUR EACH DAY!\n",
            "a lot of things occur each day!\n",
            "A lot of Things occur Each Day!\n"
          ]
        }
      ]
    }
  ]
}