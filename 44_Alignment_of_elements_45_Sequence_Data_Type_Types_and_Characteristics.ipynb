{
  "nbformat": 4,
  "nbformat_minor": 0,
  "metadata": {
    "colab": {
      "provenance": [],
      "include_colab_link": true
    },
    "kernelspec": {
      "name": "python3",
      "display_name": "Python 3"
    },
    "language_info": {
      "name": "python"
    }
  },
  "cells": [
    {
      "cell_type": "markdown",
      "metadata": {
        "id": "view-in-github",
        "colab_type": "text"
      },
      "source": [
        "<a href=\"https://colab.research.google.com/github/gyeomsoo/Homework-2025/blob/main/44_Alignment_of_elements_45_Sequence_Data_Type_Types_and_Characteristics.ipynb\" target=\"_parent\"><img src=\"https://colab.research.google.com/assets/colab-badge.svg\" alt=\"Open In Colab\"/></a>"
      ]
    },
    {
      "cell_type": "markdown",
      "source": [
        "# 44 요소 정렬 : sorted ()"
      ],
      "metadata": {
        "id": "KzBYR5_I0XlI"
      }
    },
    {
      "cell_type": "code",
      "source": [
        "listData = [42, 1, 39, 27, 44, 8]\n",
        "ret1 = sorted(listData)                    # listData를 오름차순으로 정렬\n",
        "ret2 = sorted(listData, reverse=True)      # listData를 내림차순으로 정렬\n",
        "print(ret1)\n",
        "print(ret2)\n",
        "print(listData)"
      ],
      "metadata": {
        "colab": {
          "base_uri": "https://localhost:8080/"
        },
        "id": "ZDCUfFh80eaf",
        "outputId": "1af90bbe-18aa-4ec4-f125-45981e7ca101"
      },
      "execution_count": 1,
      "outputs": [
        {
          "output_type": "stream",
          "name": "stdout",
          "text": [
            "[1, 8, 27, 39, 42, 44]\n",
            "[44, 42, 39, 27, 8, 1]\n",
            "[42, 1, 39, 27, 44, 8]\n"
          ]
        }
      ]
    },
    {
      "cell_type": "code",
      "source": [
        "tupleData = ('사과', '배', '오렌지', '수박', '참외')\n",
        "ret = sorted(tupleData)\n",
        "print(ret)"
      ],
      "metadata": {
        "colab": {
          "base_uri": "https://localhost:8080/"
        },
        "id": "Yqtlv3LX04IP",
        "outputId": "087e9716-bc17-4238-932b-797995f7f8f6"
      },
      "execution_count": 2,
      "outputs": [
        {
          "output_type": "stream",
          "name": "stdout",
          "text": [
            "['배', '사과', '수박', '오렌지', '참외']\n"
          ]
        }
      ]
    },
    {
      "cell_type": "code",
      "source": [
        "strData = 'I love python!'\n",
        "ret = sorted(strData)\n",
        "print(ret)"
      ],
      "metadata": {
        "colab": {
          "base_uri": "https://localhost:8080/"
        },
        "id": "L-FkCPxP1Le1",
        "outputId": "18372b71-1929-4239-e4c2-56c4abe353d8"
      },
      "execution_count": 3,
      "outputs": [
        {
          "output_type": "stream",
          "name": "stdout",
          "text": [
            "[' ', ' ', '!', 'I', 'e', 'h', 'l', 'n', 'o', 'o', 'p', 't', 'v', 'y']\n"
          ]
        }
      ]
    },
    {
      "cell_type": "code",
      "source": [
        "population = {'김씨':2834, '이씨':2288, '박씨':1889}\n",
        "ret = sorted(population)\n",
        "print(ret)"
      ],
      "metadata": {
        "colab": {
          "base_uri": "https://localhost:8080/"
        },
        "id": "Z0wfljLO1bmy",
        "outputId": "732a2140-4c9c-4ade-aa53-734733587574"
      },
      "execution_count": 4,
      "outputs": [
        {
          "output_type": "stream",
          "name": "stdout",
          "text": [
            "['김씨', '박씨', '이씨']\n"
          ]
        }
      ]
    },
    {
      "cell_type": "markdown",
      "source": [
        "# 45 시퀀스 자료형 종류 및 특성"
      ],
      "metadata": {
        "id": "edj0I1F71q7e"
      }
    },
    {
      "cell_type": "code",
      "source": [
        "listData = [1, 2, 3, 4, 5]"
      ],
      "metadata": {
        "id": "wb40KFuo1v6O"
      },
      "execution_count": 8,
      "outputs": []
    },
    {
      "cell_type": "code",
      "source": [
        "tupleData = (1, 2, 3, 4, 5)"
      ],
      "metadata": {
        "id": "co__Uus22PLw"
      },
      "execution_count": 7,
      "outputs": []
    },
    {
      "cell_type": "code",
      "source": [
        "strData1 = '010-1234-5678'\n",
        "strData2 = \"사랑해요 파이썬!\"\n",
        "strData3 = 'I love python!'"
      ],
      "metadata": {
        "id": "xenSivw42RnY"
      },
      "execution_count": 6,
      "outputs": []
    },
    {
      "cell_type": "code",
      "source": [
        "bstr = b'Hello python!'"
      ],
      "metadata": {
        "id": "bVSU5YHG2ipE"
      },
      "execution_count": 5,
      "outputs": []
    }
  ]
}