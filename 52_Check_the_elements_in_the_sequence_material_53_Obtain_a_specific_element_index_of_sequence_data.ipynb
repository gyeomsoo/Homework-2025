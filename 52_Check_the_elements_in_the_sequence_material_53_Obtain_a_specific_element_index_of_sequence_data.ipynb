{
  "nbformat": 4,
  "nbformat_minor": 0,
  "metadata": {
    "colab": {
      "provenance": [],
      "include_colab_link": true
    },
    "kernelspec": {
      "name": "python3",
      "display_name": "Python 3"
    },
    "language_info": {
      "name": "python"
    }
  },
  "cells": [
    {
      "cell_type": "markdown",
      "metadata": {
        "id": "view-in-github",
        "colab_type": "text"
      },
      "source": [
        "<a href=\"https://colab.research.google.com/github/gyeomsoo/Homework-2025/blob/main/52_Check_the_elements_in_the_sequence_material_53_Obtain_a_specific_element_index_of_sequence_data.ipynb\" target=\"_parent\"><img src=\"https://colab.research.google.com/assets/colab-badge.svg\" alt=\"Open In Colab\"/></a>"
      ]
    },
    {
      "cell_type": "markdown",
      "source": [
        "# 52 시퀀스 자료에서 요소 체크 : in, not in"
      ],
      "metadata": {
        "id": "3fvpqw9stneO"
      }
    },
    {
      "cell_type": "code",
      "source": [
        "x in s        # x가 s의 요소로 존재하면 True\n",
        "x not in s    # x가 s의 요소로 존재하지 않으면 True"
      ],
      "metadata": {
        "id": "c8e-Hcq6tmua"
      },
      "execution_count": null,
      "outputs": []
    },
    {
      "cell_type": "code",
      "source": [
        "lyrics = 'A lot of things occur each day! every day!'\n",
        "flag = 'things' in lyrics\n",
        "print(flag)"
      ],
      "metadata": {
        "colab": {
          "base_uri": "https://localhost:8080/"
        },
        "id": "ZhOKye7xuwLg",
        "outputId": "e8965cf3-e558-4103-df0f-e5b1fa864809"
      },
      "execution_count": 1,
      "outputs": [
        {
          "output_type": "stream",
          "name": "stdout",
          "text": [
            "True\n"
          ]
        }
      ]
    },
    {
      "cell_type": "code",
      "source": [
        "lyrics = 'A lot of things occur each day! every day!'\n",
        "flag = 'things' not in lyrics\n",
        "print(flag)"
      ],
      "metadata": {
        "colab": {
          "base_uri": "https://localhost:8080/"
        },
        "id": "wxhZ398muv3W",
        "outputId": "8d5f5661-9858-4bf0-cf16-3b0ad6edfac2"
      },
      "execution_count": 2,
      "outputs": [
        {
          "output_type": "stream",
          "name": "stdout",
          "text": [
            "False\n"
          ]
        }
      ]
    },
    {
      "cell_type": "code",
      "source": [
        "urlList = ['ur11', 'ur12', 'ur13']\n",
        "if 'ur14' in urlList:\n",
        "  print('ur14가  urlList에 요소로 존재합니다.')\n",
        "else:\n",
        "  print('ur14가  urlList에 요소로 존재하지 않습니다.')"
      ],
      "metadata": {
        "colab": {
          "base_uri": "https://localhost:8080/"
        },
        "id": "KEQpyUWnuvuh",
        "outputId": "12b3dbef-8f87-4049-d629-1f05287446f4"
      },
      "execution_count": 4,
      "outputs": [
        {
          "output_type": "stream",
          "name": "stdout",
          "text": [
            "ur14가  urlList에 요소로 존재하지 않습니다.\n"
          ]
        }
      ]
    },
    {
      "cell_type": "markdown",
      "source": [
        "# 53 시퀀스 자료의 특정 요소 인덱스 구하기 : s.index ()"
      ],
      "metadata": {
        "id": "8jRCJ8jhtm4t"
      }
    },
    {
      "cell_type": "code",
      "source": [
        "fruits = ('사과', '배', '참외', '수박', '배', '오렌지')\n",
        "pos = fruits.index('배')\n",
        "print(f'배는 {pos+1}번째 과일입니다')"
      ],
      "metadata": {
        "colab": {
          "base_uri": "https://localhost:8080/"
        },
        "id": "07s5ga8px00E",
        "outputId": "4b5086c5-0b75-47c9-c476-a3a46ff9439f"
      },
      "execution_count": 8,
      "outputs": [
        {
          "output_type": "stream",
          "name": "stdout",
          "text": [
            "배는 2번째 과일입니다\n"
          ]
        }
      ]
    },
    {
      "cell_type": "code",
      "source": [
        "fruits = ('사과', '배', '참외', '수박', '배', '오렌지')\n",
        "pos = fruits.index('배', 3)\n",
        "print(f'배는 {pos+1}번째 과일입니다')"
      ],
      "metadata": {
        "colab": {
          "base_uri": "https://localhost:8080/"
        },
        "id": "RRCl6Gkivof2",
        "outputId": "5a501669-59a0-4807-da06-cf74e9bd776f"
      },
      "execution_count": 6,
      "outputs": [
        {
          "output_type": "stream",
          "name": "stdout",
          "text": [
            "배는 5번째 과일입니다\n"
          ]
        }
      ]
    },
    {
      "cell_type": "code",
      "source": [
        "fruits = ('사과', '배', '참외', '수박', '배', '오렌지')\n",
        "pos = fruits.index('사과', 3)\n",
        "print(f'사과는 {pos+1}번째 과일입니다')"
      ],
      "metadata": {
        "colab": {
          "base_uri": "https://localhost:8080/",
          "height": 184
        },
        "id": "U8B0oknlxuTb",
        "outputId": "84bf0d28-4cdb-49a6-ceb5-8030d98fbedb"
      },
      "execution_count": 7,
      "outputs": [
        {
          "output_type": "error",
          "ename": "ValueError",
          "evalue": "tuple.index(x): x not in tuple",
          "traceback": [
            "\u001b[0;31m---------------------------------------------------------------------------\u001b[0m",
            "\u001b[0;31mValueError\u001b[0m                                Traceback (most recent call last)",
            "\u001b[0;32m/tmp/ipython-input-1381281767.py\u001b[0m in \u001b[0;36m<cell line: 0>\u001b[0;34m()\u001b[0m\n\u001b[1;32m      1\u001b[0m \u001b[0mfruits\u001b[0m \u001b[0;34m=\u001b[0m \u001b[0;34m(\u001b[0m\u001b[0;34m'사과'\u001b[0m\u001b[0;34m,\u001b[0m \u001b[0;34m'배'\u001b[0m\u001b[0;34m,\u001b[0m \u001b[0;34m'참외'\u001b[0m\u001b[0;34m,\u001b[0m \u001b[0;34m'수박'\u001b[0m\u001b[0;34m,\u001b[0m \u001b[0;34m'배'\u001b[0m\u001b[0;34m,\u001b[0m \u001b[0;34m'오렌지'\u001b[0m\u001b[0;34m)\u001b[0m\u001b[0;34m\u001b[0m\u001b[0;34m\u001b[0m\u001b[0m\n\u001b[0;32m----> 2\u001b[0;31m \u001b[0mpos\u001b[0m \u001b[0;34m=\u001b[0m \u001b[0mfruits\u001b[0m\u001b[0;34m.\u001b[0m\u001b[0mindex\u001b[0m\u001b[0;34m(\u001b[0m\u001b[0;34m'사과'\u001b[0m\u001b[0;34m,\u001b[0m \u001b[0;36m3\u001b[0m\u001b[0;34m)\u001b[0m\u001b[0;34m\u001b[0m\u001b[0;34m\u001b[0m\u001b[0m\n\u001b[0m\u001b[1;32m      3\u001b[0m \u001b[0mprint\u001b[0m\u001b[0;34m(\u001b[0m\u001b[0;34mf'사과는 {pos+1}번째 과일입니다'\u001b[0m\u001b[0;34m)\u001b[0m\u001b[0;34m\u001b[0m\u001b[0;34m\u001b[0m\u001b[0m\n",
            "\u001b[0;31mValueError\u001b[0m: tuple.index(x): x not in tuple"
          ]
        }
      ]
    }
  ]
}