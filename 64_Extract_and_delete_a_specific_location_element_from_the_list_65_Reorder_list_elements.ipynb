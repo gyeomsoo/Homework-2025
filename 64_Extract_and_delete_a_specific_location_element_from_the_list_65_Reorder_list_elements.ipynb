{
  "nbformat": 4,
  "nbformat_minor": 0,
  "metadata": {
    "colab": {
      "provenance": [],
      "include_colab_link": true
    },
    "kernelspec": {
      "name": "python3",
      "display_name": "Python 3"
    },
    "language_info": {
      "name": "python"
    }
  },
  "cells": [
    {
      "cell_type": "markdown",
      "metadata": {
        "id": "view-in-github",
        "colab_type": "text"
      },
      "source": [
        "<a href=\"https://colab.research.google.com/github/gyeomsoo/Homework-2025/blob/main/64_Extract_and_delete_a_specific_location_element_from_the_list_65_Reorder_list_elements.ipynb\" target=\"_parent\"><img src=\"https://colab.research.google.com/assets/colab-badge.svg\" alt=\"Open In Colab\"/></a>"
      ]
    },
    {
      "cell_type": "markdown",
      "source": [
        "# 64 리스트에서 특정 위치 요소 추출 후 삭제 : *list*.pop ()"
      ],
      "metadata": {
        "id": "FOMsuSsOAtX6"
      }
    },
    {
      "cell_type": "code",
      "source": [
        "numbers = [14, 5, 18, 45, 10, 43]\n",
        "for _ in range(len(numbers)):\n",
        "  ret = numbers.pop()\n",
        "  print(f'pop()으로 추출된 값: {ret}, numbaers = {numbers}')"
      ],
      "metadata": {
        "colab": {
          "base_uri": "https://localhost:8080/"
        },
        "id": "auei0v_MBjkV",
        "outputId": "892ecf5d-28ea-4f8b-d192-7abc7d26d424"
      },
      "execution_count": 2,
      "outputs": [
        {
          "output_type": "stream",
          "name": "stdout",
          "text": [
            "pop()으로 추출된 값: 43, numbaers = [14, 5, 18, 45, 10]\n",
            "pop()으로 추출된 값: 10, numbaers = [14, 5, 18, 45]\n",
            "pop()으로 추출된 값: 45, numbaers = [14, 5, 18]\n",
            "pop()으로 추출된 값: 18, numbaers = [14, 5]\n",
            "pop()으로 추출된 값: 5, numbaers = [14]\n",
            "pop()으로 추출된 값: 14, numbaers = []\n"
          ]
        }
      ]
    },
    {
      "cell_type": "code",
      "source": [
        "numbers = [14, 5, 18, 45, 10, 43]\n",
        "ret = numbers.pop(3)\n",
        "print(f'pop()으로 추출된 값: {ret}, numbaers = {numbers}')"
      ],
      "metadata": {
        "colab": {
          "base_uri": "https://localhost:8080/"
        },
        "id": "zEPs3hG3B7iK",
        "outputId": "02c792e8-1c13-431a-f17a-b02d3f359e19"
      },
      "execution_count": 3,
      "outputs": [
        {
          "output_type": "stream",
          "name": "stdout",
          "text": [
            "pop()으로 추출된 값: 45, numbaers = [14, 5, 18, 10, 43]\n"
          ]
        }
      ]
    },
    {
      "cell_type": "markdown",
      "source": [
        "# 65 리스트 요소를 역순으로 만들기 : *list*.reverse ()"
      ],
      "metadata": {
        "id": "5jAwQL-DA9iq"
      }
    },
    {
      "cell_type": "code",
      "source": [
        "numbers = [1, 2, 3, 4, 5]\n",
        "ret = reversed(numbers)\n",
        "print(list(ret))\n",
        "print(numbers)"
      ],
      "metadata": {
        "colab": {
          "base_uri": "https://localhost:8080/"
        },
        "id": "umM8ebneCeqk",
        "outputId": "39ebfc38-8a5e-43fd-c73a-ed70c0f43585"
      },
      "execution_count": 4,
      "outputs": [
        {
          "output_type": "stream",
          "name": "stdout",
          "text": [
            "[5, 4, 3, 2, 1]\n",
            "[1, 2, 3, 4, 5]\n"
          ]
        }
      ]
    },
    {
      "cell_type": "code",
      "source": [
        "numbers = [1, 2, 3, 4, 5]\n",
        "numbers.reverse()\n",
        "print(numbers)"
      ],
      "metadata": {
        "colab": {
          "base_uri": "https://localhost:8080/"
        },
        "id": "UmCsnrG4C3Dm",
        "outputId": "a2289381-d56c-451f-f87b-255ce8b483f8"
      },
      "execution_count": 8,
      "outputs": [
        {
          "output_type": "stream",
          "name": "stdout",
          "text": [
            "[5, 4, 3, 2, 1]\n"
          ]
        }
      ]
    }
  ]
}