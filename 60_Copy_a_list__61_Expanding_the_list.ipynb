{
  "nbformat": 4,
  "nbformat_minor": 0,
  "metadata": {
    "colab": {
      "provenance": [],
      "include_colab_link": true
    },
    "kernelspec": {
      "name": "python3",
      "display_name": "Python 3"
    },
    "language_info": {
      "name": "python"
    }
  },
  "cells": [
    {
      "cell_type": "markdown",
      "metadata": {
        "id": "view-in-github",
        "colab_type": "text"
      },
      "source": [
        "<a href=\"https://colab.research.google.com/github/gyeomsoo/Homework-2025/blob/main/60_Copy_a_list__61_Expanding_the_list.ipynb\" target=\"_parent\"><img src=\"https://colab.research.google.com/assets/colab-badge.svg\" alt=\"Open In Colab\"/></a>"
      ]
    },
    {
      "cell_type": "markdown",
      "source": [
        "# 60 리스트 복사하기 : *list*.copy ()"
      ],
      "metadata": {
        "id": "pKb0L5hPp1S0"
      }
    },
    {
      "cell_type": "code",
      "source": [
        "fruits = ['사과', '배', '오렌지', '수박', '참외']\n",
        "buffer = fruits.copy()\n",
        "del buffer[-1]\n",
        "print(f'원본 리스트: {fruits}')\n",
        "print(f'복사본 리스트: {buffer}')"
      ],
      "metadata": {
        "colab": {
          "base_uri": "https://localhost:8080/"
        },
        "id": "XQAV3yhMqFIz",
        "outputId": "bb84282b-5fbf-463a-8b48-ef8c82458500"
      },
      "execution_count": 1,
      "outputs": [
        {
          "output_type": "stream",
          "name": "stdout",
          "text": [
            "원본 리스트: ['사과', '배', '오렌지', '수박', '참외']\n",
            "복사본 리스트: ['사과', '배', '오렌지', '수박']\n"
          ]
        }
      ]
    },
    {
      "cell_type": "markdown",
      "source": [
        "# 61 리스트 확장하기 : *list*.extend ()"
      ],
      "metadata": {
        "id": "BwW_V3vLqfQO"
      }
    },
    {
      "cell_type": "code",
      "source": [
        "world = []\n",
        "asia = ['한국', '중국', '일본']\n",
        "europe = ['독일', '프랑스', '영국']\n",
        "america = ['미국', '캐나다', '멕시코']"
      ],
      "metadata": {
        "id": "hSUmvCHfqVOS"
      },
      "execution_count": 2,
      "outputs": []
    },
    {
      "cell_type": "code",
      "source": [
        "world.extend(asia)\n",
        "print(world)"
      ],
      "metadata": {
        "colab": {
          "base_uri": "https://localhost:8080/"
        },
        "id": "CpDcEXXBrKFp",
        "outputId": "0cf285c6-9e47-44cd-d5b7-3e9eb2175e1c"
      },
      "execution_count": 4,
      "outputs": [
        {
          "output_type": "stream",
          "name": "stdout",
          "text": [
            "['한국', '중국', '일본']\n"
          ]
        }
      ]
    },
    {
      "cell_type": "code",
      "source": [
        "world.extend(europe)\n",
        "print(world)\n",
        "world.extend(america)\n",
        "print(world)"
      ],
      "metadata": {
        "colab": {
          "base_uri": "https://localhost:8080/"
        },
        "id": "GohBwoJhrWQv",
        "outputId": "952b87e1-38ce-429f-bae1-83e836465baf"
      },
      "execution_count": 5,
      "outputs": [
        {
          "output_type": "stream",
          "name": "stdout",
          "text": [
            "['한국', '중국', '일본', '독일', '프랑스', '영국']\n",
            "['한국', '중국', '일본', '독일', '프랑스', '영국', '미국', '캐나다', '멕시코']\n"
          ]
        }
      ]
    },
    {
      "cell_type": "code",
      "source": [
        "world.clear()\n",
        "world += asia\n",
        "world += europe\n",
        "print(world)"
      ],
      "metadata": {
        "colab": {
          "base_uri": "https://localhost:8080/"
        },
        "id": "RmgdnR_ArdYk",
        "outputId": "f73eea49-7878-4414-b1a9-94f80d1139d1"
      },
      "execution_count": 6,
      "outputs": [
        {
          "output_type": "stream",
          "name": "stdout",
          "text": [
            "['한국', '중국', '일본', '독일', '프랑스', '영국']\n"
          ]
        }
      ]
    }
  ]
}