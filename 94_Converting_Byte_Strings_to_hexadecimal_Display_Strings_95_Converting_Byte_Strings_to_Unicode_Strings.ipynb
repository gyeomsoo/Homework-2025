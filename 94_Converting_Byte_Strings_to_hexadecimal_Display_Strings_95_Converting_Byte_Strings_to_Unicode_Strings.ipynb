{
  "nbformat": 4,
  "nbformat_minor": 0,
  "metadata": {
    "colab": {
      "provenance": [],
      "include_colab_link": true
    },
    "kernelspec": {
      "name": "python3",
      "display_name": "Python 3"
    },
    "language_info": {
      "name": "python"
    }
  },
  "cells": [
    {
      "cell_type": "markdown",
      "metadata": {
        "id": "view-in-github",
        "colab_type": "text"
      },
      "source": [
        "<a href=\"https://colab.research.google.com/github/gyeomsoo/Homework-2025/blob/main/94_Converting_Byte_Strings_to_hexadecimal_Display_Strings_95_Converting_Byte_Strings_to_Unicode_Strings.ipynb\" target=\"_parent\"><img src=\"https://colab.research.google.com/assets/colab-badge.svg\" alt=\"Open In Colab\"/></a>"
      ]
    },
    {
      "cell_type": "markdown",
      "source": [
        "# 94 바이트 문자열을 16진수 표시 문자열로 변환 : *bytes*.hex ()"
      ],
      "metadata": {
        "id": "qkpkkoxzE462"
      }
    },
    {
      "cell_type": "code",
      "source": [
        "hexData = b'Python\\xf8\\xfa'.hex()\n",
        "print(hexData)"
      ],
      "metadata": {
        "colab": {
          "base_uri": "https://localhost:8080/"
        },
        "id": "AkFksk5gFKGq",
        "outputId": "2e195f24-cc89-4194-b808-3892abce2dba"
      },
      "execution_count": 1,
      "outputs": [
        {
          "output_type": "stream",
          "name": "stdout",
          "text": [
            "507974686f6ef8fa\n"
          ]
        }
      ]
    },
    {
      "cell_type": "code",
      "source": [
        "hexData = b'Python\\xf8\\xfa\\x80'.hex('-')\n",
        "print(hexData)"
      ],
      "metadata": {
        "colab": {
          "base_uri": "https://localhost:8080/"
        },
        "id": "VaH3GQegFfwk",
        "outputId": "e86297bd-15b8-49b2-ecf1-3d032102cea5"
      },
      "execution_count": 2,
      "outputs": [
        {
          "output_type": "stream",
          "name": "stdout",
          "text": [
            "50-79-74-68-6f-6e-f8-fa-80\n"
          ]
        }
      ]
    },
    {
      "cell_type": "code",
      "source": [
        "hexData = b'Python\\xf8\\xfa\\x80'.hex('-',2)\n",
        "print(hexData)"
      ],
      "metadata": {
        "colab": {
          "base_uri": "https://localhost:8080/"
        },
        "id": "nphl5tQ_FxEA",
        "outputId": "7f2d6114-c0d4-4b9e-de5e-9d0780f21111"
      },
      "execution_count": 3,
      "outputs": [
        {
          "output_type": "stream",
          "name": "stdout",
          "text": [
            "50-7974-686f-6ef8-fa80\n"
          ]
        }
      ]
    },
    {
      "cell_type": "markdown",
      "source": [
        "# 95 바이트 문자열을 유니코드 문자열로 변환 : *bytes*.decode ()"
      ],
      "metadata": {
        "id": "oMugk7rHF2ui"
      }
    },
    {
      "cell_type": "code",
      "source": [
        "bytesData = b'\\xec\\x82\\xac\\xeb\\x9e\\x91\\xed\\x95\\xb4\\xec\\x9a\\x94'\n",
        "strData = bytesData.decode()\n",
        "print(strData)"
      ],
      "metadata": {
        "colab": {
          "base_uri": "https://localhost:8080/"
        },
        "id": "N-hH3COhF99F",
        "outputId": "e3dde798-ed62-40c7-d65a-309a22b8c408"
      },
      "execution_count": 7,
      "outputs": [
        {
          "output_type": "stream",
          "name": "stdout",
          "text": [
            "사랑해요\n"
          ]
        }
      ]
    },
    {
      "cell_type": "code",
      "source": [
        "bytesData = b'\\xbb\\xe7\\xb6\\xfb\\xc7\\xd8\\xbf\\xe4'\n",
        "strData = bytesData.decode()\n",
        "print(strData)"
      ],
      "metadata": {
        "colab": {
          "base_uri": "https://localhost:8080/",
          "height": 184
        },
        "id": "LPFQ5XDDHAUY",
        "outputId": "f542146f-5596-4dfc-d5be-73c7ecd4c71a"
      },
      "execution_count": 8,
      "outputs": [
        {
          "output_type": "error",
          "ename": "UnicodeDecodeError",
          "evalue": "'utf-8' codec can't decode byte 0xbb in position 0: invalid start byte",
          "traceback": [
            "\u001b[0;31m---------------------------------------------------------------------------\u001b[0m",
            "\u001b[0;31mUnicodeDecodeError\u001b[0m                        Traceback (most recent call last)",
            "\u001b[0;32m/tmp/ipython-input-3134233956.py\u001b[0m in \u001b[0;36m<cell line: 0>\u001b[0;34m()\u001b[0m\n\u001b[1;32m      1\u001b[0m \u001b[0mbytesData\u001b[0m \u001b[0;34m=\u001b[0m \u001b[0;34mb'\\xbb\\xe7\\xb6\\xfb\\xc7\\xd8\\xbf\\xe4'\u001b[0m\u001b[0;34m\u001b[0m\u001b[0;34m\u001b[0m\u001b[0m\n\u001b[0;32m----> 2\u001b[0;31m \u001b[0mstrData\u001b[0m \u001b[0;34m=\u001b[0m \u001b[0mbytesData\u001b[0m\u001b[0;34m.\u001b[0m\u001b[0mdecode\u001b[0m\u001b[0;34m(\u001b[0m\u001b[0;34m)\u001b[0m\u001b[0;34m\u001b[0m\u001b[0;34m\u001b[0m\u001b[0m\n\u001b[0m\u001b[1;32m      3\u001b[0m \u001b[0mprint\u001b[0m\u001b[0;34m(\u001b[0m\u001b[0mstrData\u001b[0m\u001b[0;34m)\u001b[0m\u001b[0;34m\u001b[0m\u001b[0;34m\u001b[0m\u001b[0m\n",
            "\u001b[0;31mUnicodeDecodeError\u001b[0m: 'utf-8' codec can't decode byte 0xbb in position 0: invalid start byte"
          ]
        }
      ]
    },
    {
      "cell_type": "code",
      "source": [
        "bytesData = b'\\xbb\\xe7\\xb6\\xfb\\xc7\\xd8\\xbf\\xe4'\n",
        "strData = bytesData.decode('cp949')\n",
        "print(strData)"
      ],
      "metadata": {
        "colab": {
          "base_uri": "https://localhost:8080/"
        },
        "id": "wG5CDJBgHYz_",
        "outputId": "5bffbaf4-d9af-4dd2-ae2b-8c1377fec82b"
      },
      "execution_count": 9,
      "outputs": [
        {
          "output_type": "stream",
          "name": "stdout",
          "text": [
            "사랑해요\n"
          ]
        }
      ]
    }
  ]
}