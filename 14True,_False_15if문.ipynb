{
  "nbformat": 4,
  "nbformat_minor": 0,
  "metadata": {
    "colab": {
      "provenance": [],
      "include_colab_link": true
    },
    "kernelspec": {
      "name": "python3",
      "display_name": "Python 3"
    },
    "language_info": {
      "name": "python"
    }
  },
  "cells": [
    {
      "cell_type": "markdown",
      "metadata": {
        "id": "view-in-github",
        "colab_type": "text"
      },
      "source": [
        "<a href=\"https://colab.research.google.com/github/gyeomsoo/Homework-2025/blob/main/14True%2C_False_15if%EB%AC%B8.ipynb\" target=\"_parent\"><img src=\"https://colab.research.google.com/assets/colab-badge.svg\" alt=\"Open In Colab\"/></a>"
      ]
    },
    {
      "cell_type": "markdown",
      "source": [
        "# 14 True, False"
      ],
      "metadata": {
        "id": "lABPI8BMCyru"
      }
    },
    {
      "cell_type": "code",
      "source": [
        "flag1 = True\n",
        "flag2 = False\n",
        "print(flag1 == 1)\n",
        "print(flag2 != 0)"
      ],
      "metadata": {
        "colab": {
          "base_uri": "https://localhost:8080/"
        },
        "id": "mtlKcne3C33O",
        "outputId": "7003d14b-6324-4aee-b9eb-562bf10d3d28"
      },
      "execution_count": 1,
      "outputs": [
        {
          "output_type": "stream",
          "name": "stdout",
          "text": [
            "True\n",
            "False\n"
          ]
        }
      ]
    },
    {
      "cell_type": "code",
      "source": [
        "while True:\n",
        "  실행 코드\n"
      ],
      "metadata": {
        "id": "WkILB5pfDNM-"
      },
      "execution_count": 5,
      "outputs": []
    },
    {
      "cell_type": "code",
      "source": [
        "while True:\n",
        "  실행 코드\n",
        "  if 조건 == True:\n",
        "    break"
      ],
      "metadata": {
        "id": "jo_BbI7nDuTb"
      },
      "execution_count": 5,
      "outputs": []
    },
    {
      "cell_type": "markdown",
      "source": [
        "# 15 if문 : if ~ elif ~ else"
      ],
      "metadata": {
        "id": "HFvqMwbwDkgi"
      }
    },
    {
      "cell_type": "code",
      "source": [
        "if 조건:\n",
        "  조건이 참일 경우 실행하는 코드"
      ],
      "metadata": {
        "id": "9UpFZapTFV5y"
      },
      "execution_count": null,
      "outputs": []
    },
    {
      "cell_type": "code",
      "source": [
        "if 조건:\n",
        "  조건이 참일 경우 실행하는 코드\n",
        "else:\n",
        "  조건이 거짓일 경우 실행하는 코드"
      ],
      "metadata": {
        "id": "76zcNRCIFfZ2"
      },
      "execution_count": null,
      "outputs": []
    },
    {
      "cell_type": "code",
      "source": [
        "x = 1\n",
        "y = 2\n",
        "if x < y:\n",
        "  print('x가 y보다 작습니다.')\n",
        "else:\n",
        "  print('x가 y보다 작지 않습니다.')"
      ],
      "metadata": {
        "colab": {
          "base_uri": "https://localhost:8080/"
        },
        "id": "egz3SjDZFuDu",
        "outputId": "19d19637-b539-4539-9c8e-dd351a60a592"
      },
      "execution_count": 6,
      "outputs": [
        {
          "output_type": "stream",
          "name": "stdout",
          "text": [
            "x가 y보다 작습니다.\n"
          ]
        }
      ]
    },
    {
      "cell_type": "code",
      "source": [
        "if 조건1\n",
        "  조건1dl 참일 경우 실행하는 코드\n",
        "elif 조건2:\n",
        "  조건1이 거짓이고, 조건2가 참일 경우 실행하는 코드\n",
        "else:\n",
        "  조건1과 조건2가 모두 거짓일 경우 실행하는 코드"
      ],
      "metadata": {
        "id": "_Ypa8tRUKqfp"
      },
      "execution_count": null,
      "outputs": []
    },
    {
      "cell_type": "code",
      "source": [
        "x = 1\n",
        "y = 2\n",
        "if x < y:\n",
        "  print('x가 y보다 작습니다.')\n",
        "elif x > y:\n",
        "    print('x가 y보다 큽니다.')\n",
        "else:\n",
        "    print('x와 y가 같습니다.')"
      ],
      "metadata": {
        "colab": {
          "base_uri": "https://localhost:8080/"
        },
        "id": "OQhJIeGbKzwa",
        "outputId": "3101c3db-9e34-46b0-eec7-84d9e3ab3f18"
      },
      "execution_count": 7,
      "outputs": [
        {
          "output_type": "stream",
          "name": "stdout",
          "text": [
            "x가 y보다 작습니다.\n"
          ]
        }
      ]
    }
  ]
}