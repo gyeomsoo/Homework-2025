{
  "nbformat": 4,
  "nbformat_minor": 0,
  "metadata": {
    "colab": {
      "provenance": [],
      "include_colab_link": true
    },
    "kernelspec": {
      "name": "python3",
      "display_name": "Python 3"
    },
    "language_info": {
      "name": "python"
    }
  },
  "cells": [
    {
      "cell_type": "markdown",
      "metadata": {
        "id": "view-in-github",
        "colab_type": "text"
      },
      "source": [
        "<a href=\"https://colab.research.google.com/github/gyeomsoo/Homework-2025/blob/main/26integers%2C_Real_numbers_27complex_number.ipynb\" target=\"_parent\"><img src=\"https://colab.research.google.com/assets/colab-badge.svg\" alt=\"Open In Colab\"/></a>"
      ]
    },
    {
      "cell_type": "markdown",
      "source": [
        "# 26 정수, 실수 : int, float"
      ],
      "metadata": {
        "id": "kXBziQp-LH8o"
      }
    },
    {
      "cell_type": "code",
      "source": [
        "intData = 20     # 10진수 정수로 선언"
      ],
      "metadata": {
        "id": "7HIYoiflLOLm"
      },
      "execution_count": null,
      "outputs": []
    },
    {
      "cell_type": "code",
      "source": [
        "octData = 0o24   # 졍수 20을 8진수로 선언. 0o는 8진수 임을 나타냄\n",
        "hexData = 0x14   # 정수 20을 16진수로 선언. 0x는 16진수임을 나타냄"
      ],
      "metadata": {
        "id": "tCPHRJcxLVy0"
      },
      "execution_count": null,
      "outputs": []
    },
    {
      "cell_type": "code",
      "source": [
        "fData1 = 1.0\n",
        "fData2 = 2."
      ],
      "metadata": {
        "id": "ophEiVLrMJA-"
      },
      "execution_count": null,
      "outputs": []
    },
    {
      "cell_type": "code",
      "source": [
        "intData1 = 5\n",
        "intData2 = 10\n",
        "ret = intData2 / intData1\n",
        "print(type(ret))"
      ],
      "metadata": {
        "colab": {
          "base_uri": "https://localhost:8080/"
        },
        "id": "5-xGiS4MMSGN",
        "outputId": "c3507fa0-ff5f-4fc2-aca8-246fb206b867"
      },
      "execution_count": 1,
      "outputs": [
        {
          "output_type": "stream",
          "name": "stdout",
          "text": [
            "<class 'float'>\n"
          ]
        }
      ]
    },
    {
      "cell_type": "code",
      "source": [
        "numData = 2e2\n",
        "print(type(numData))"
      ],
      "metadata": {
        "colab": {
          "base_uri": "https://localhost:8080/"
        },
        "id": "BvG861ywO8bB",
        "outputId": "e2de9bd7-871f-4295-9ff8-bd2769e553f1"
      },
      "execution_count": 3,
      "outputs": [
        {
          "output_type": "stream",
          "name": "stdout",
          "text": [
            "<class 'float'>\n"
          ]
        }
      ]
    },
    {
      "cell_type": "markdown",
      "source": [
        "# 27 복소수 : complex"
      ],
      "metadata": {
        "id": "z2KS0fkCPQAl"
      }
    },
    {
      "cell_type": "code",
      "source": [
        "cData1 = 1 + 1j\n",
        "cData2 = complex(1, 1)\n",
        "print(cData1 == cData2)"
      ],
      "metadata": {
        "colab": {
          "base_uri": "https://localhost:8080/"
        },
        "id": "BPqkHk2sQs_X",
        "outputId": "8d660e47-00e4-4882-f2c5-32c1855b89c7"
      },
      "execution_count": 5,
      "outputs": [
        {
          "output_type": "stream",
          "name": "stdout",
          "text": [
            "True\n"
          ]
        }
      ]
    },
    {
      "cell_type": "code",
      "source": [
        "print(cData1.real)   # 복소수 자료 cData1의 실수부 추출\n",
        "print(cData2.imag)   # 복소수 자료 cData2의 허수부 추출"
      ],
      "metadata": {
        "colab": {
          "base_uri": "https://localhost:8080/"
        },
        "id": "U0KlM2KaRJQ-",
        "outputId": "af7bdea6-e4e4-4125-ca9e-74ca2796686d"
      },
      "execution_count": 6,
      "outputs": [
        {
          "output_type": "stream",
          "name": "stdout",
          "text": [
            "1.0\n",
            "1.0\n"
          ]
        }
      ]
    },
    {
      "cell_type": "code",
      "source": [
        "complexData1 = 1 - 5j\n",
        "complexData2 = complex(2, 3)\n",
        "print(complexData1. conjugate())\n",
        "print(complexData2. conjugate())"
      ],
      "metadata": {
        "colab": {
          "base_uri": "https://localhost:8080/"
        },
        "id": "Ao7KJIpgRZv5",
        "outputId": "a14d2a31-2661-46ca-b507-022424f4390e"
      },
      "execution_count": 7,
      "outputs": [
        {
          "output_type": "stream",
          "name": "stdout",
          "text": [
            "(1+5j)\n",
            "(2-3j)\n"
          ]
        }
      ]
    }
  ]
}