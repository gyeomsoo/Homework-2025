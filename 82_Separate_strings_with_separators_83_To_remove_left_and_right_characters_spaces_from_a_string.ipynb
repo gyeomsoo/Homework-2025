{
  "nbformat": 4,
  "nbformat_minor": 0,
  "metadata": {
    "colab": {
      "provenance": [],
      "include_colab_link": true
    },
    "kernelspec": {
      "name": "python3",
      "display_name": "Python 3"
    },
    "language_info": {
      "name": "python"
    }
  },
  "cells": [
    {
      "cell_type": "markdown",
      "metadata": {
        "id": "view-in-github",
        "colab_type": "text"
      },
      "source": [
        "<a href=\"https://colab.research.google.com/github/gyeomsoo/Homework-2025/blob/main/82_Separate_strings_with_separators_83_To_remove_left_and_right_characters_spaces_from_a_string.ipynb\" target=\"_parent\"><img src=\"https://colab.research.google.com/assets/colab-badge.svg\" alt=\"Open In Colab\"/></a>"
      ]
    },
    {
      "cell_type": "markdown",
      "source": [
        "# 82 문자열을 구분자로 분리하기 : *str*.split ()"
      ],
      "metadata": {
        "id": "gq7tqf4J2rZv"
      }
    },
    {
      "cell_type": "code",
      "source": [
        "logData = '홍길동;남자;18세;도적;초능력자'\n",
        "profile = logData.split(';')\n",
        "print(profile)"
      ],
      "metadata": {
        "colab": {
          "base_uri": "https://localhost:8080/"
        },
        "id": "oyFxHgwQ204t",
        "outputId": "50c67e5c-c9a5-4dc7-876e-6e6d5161607a"
      },
      "execution_count": 2,
      "outputs": [
        {
          "output_type": "stream",
          "name": "stdout",
          "text": [
            "['홍길동', '남자', '18세', '도적', '초능력자']\n"
          ]
        }
      ]
    },
    {
      "cell_type": "code",
      "source": [
        "text = '나는 파이썬을 사랑합니다.'\n",
        "print(text.split())"
      ],
      "metadata": {
        "colab": {
          "base_uri": "https://localhost:8080/"
        },
        "id": "YbDQogur3StE",
        "outputId": "2d1e5c7c-2c88-4ee2-dd3f-837296b1008c"
      },
      "execution_count": 3,
      "outputs": [
        {
          "output_type": "stream",
          "name": "stdout",
          "text": [
            "['나는', '파이썬을', '사랑합니다.']\n"
          ]
        }
      ]
    },
    {
      "cell_type": "code",
      "source": [
        "profile = '이름:홍길동 나이:18세 성별:남자 국적:조선 직업:도적 특기:초능력'\n",
        "for data in profile.split():\n",
        "    key, val = data.split(':')\n",
        "    print(f'{key} --> {val}')"
      ],
      "metadata": {
        "colab": {
          "base_uri": "https://localhost:8080/"
        },
        "id": "w1f4Zzdd3b7Y",
        "outputId": "c95ad035-a50c-46c3-f4d4-4b77b05a6b90"
      },
      "execution_count": 4,
      "outputs": [
        {
          "output_type": "stream",
          "name": "stdout",
          "text": [
            "이름 --> 홍길동\n",
            "나이 --> 18세\n",
            "성별 --> 남자\n",
            "국적 --> 조선\n",
            "직업 --> 도적\n",
            "특기 --> 초능력\n"
          ]
        }
      ]
    },
    {
      "cell_type": "markdown",
      "source": [
        "# 83 문자열에서 좌우 문자/공백 제거하기 : *str*.strip (), *str*.lstrip (), *str*.rstrip ()"
      ],
      "metadata": {
        "id": "OMLnPR0U35gP"
      }
    },
    {
      "cell_type": "code",
      "source": [
        "text = ' 이 문장의 양쪽에는 공백이 있습니다. '\n",
        "print(f'<{text.strip()}>')\n",
        "print(f'<{text.lstrip()}>')\n",
        "print(f'<{text.rstrip()}>')"
      ],
      "metadata": {
        "colab": {
          "base_uri": "https://localhost:8080/"
        },
        "id": "GtdPqnP_33Z_",
        "outputId": "0f5bd03f-0cca-4ab8-d12e-d5b9e8ff351f"
      },
      "execution_count": 8,
      "outputs": [
        {
          "output_type": "stream",
          "name": "stdout",
          "text": [
            "<이 문장의 양쪽에는 공백이 있습니다.>\n",
            "<이 문장의 양쪽에는 공백이 있습니다. >\n",
            "< 이 문장의 양쪽에는 공백이 있습니다.>\n"
          ]
        }
      ]
    },
    {
      "cell_type": "code",
      "source": [
        "url = 'www.python.com'\n",
        "print(url.strip('cmow.'))"
      ],
      "metadata": {
        "colab": {
          "base_uri": "https://localhost:8080/"
        },
        "id": "13oPAKwK4qPf",
        "outputId": "20a2d5e3-3de7-4b4f-8160-07463973067a"
      },
      "execution_count": 10,
      "outputs": [
        {
          "output_type": "stream",
          "name": "stdout",
          "text": [
            "python\n"
          ]
        }
      ]
    },
    {
      "cell_type": "code",
      "source": [
        "print(url.lstrip('cmow.'))\n",
        "print(url.rstrip('cmow.'))"
      ],
      "metadata": {
        "colab": {
          "base_uri": "https://localhost:8080/"
        },
        "id": "rRbWF-0L40-O",
        "outputId": "402c0f4b-1aac-4bb0-9d1e-d89b1725ce21"
      },
      "execution_count": 11,
      "outputs": [
        {
          "output_type": "stream",
          "name": "stdout",
          "text": [
            "python.com\n",
            "www.python\n"
          ]
        }
      ]
    }
  ]
}