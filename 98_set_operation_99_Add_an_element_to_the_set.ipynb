{
  "nbformat": 4,
  "nbformat_minor": 0,
  "metadata": {
    "colab": {
      "provenance": [],
      "include_colab_link": true
    },
    "kernelspec": {
      "name": "python3",
      "display_name": "Python 3"
    },
    "language_info": {
      "name": "python"
    }
  },
  "cells": [
    {
      "cell_type": "markdown",
      "metadata": {
        "id": "view-in-github",
        "colab_type": "text"
      },
      "source": [
        "<a href=\"https://colab.research.google.com/github/gyeomsoo/Homework-2025/blob/main/98_set_operation_99_Add_an_element_to_the_set.ipynb\" target=\"_parent\"><img src=\"https://colab.research.google.com/assets/colab-badge.svg\" alt=\"Open In Colab\"/></a>"
      ]
    },
    {
      "cell_type": "markdown",
      "source": [
        "# 98 set 연산 : |, &, -, ^"
      ],
      "metadata": {
        "id": "43H4OfJ7c1GD"
      }
    },
    {
      "cell_type": "code",
      "source": [
        "set1 = set('abradacabra')\n",
        "set2 = set('abbreviation')"
      ],
      "metadata": {
        "id": "O-ATUIG_dC7X"
      },
      "execution_count": 1,
      "outputs": []
    },
    {
      "cell_type": "code",
      "source": [
        "ret = set1 | set2\n",
        "print(ret)"
      ],
      "metadata": {
        "colab": {
          "base_uri": "https://localhost:8080/"
        },
        "id": "nnPeJM2PdOJ1",
        "outputId": "a1af9f18-e653-4bfe-d707-8e0eaa40895b"
      },
      "execution_count": 3,
      "outputs": [
        {
          "output_type": "stream",
          "name": "stdout",
          "text": [
            "{'a', 'b', 't', 'e', 'r', 'o', 'n', 'i', 'c', 'd', 'v'}\n"
          ]
        }
      ]
    },
    {
      "cell_type": "code",
      "source": [
        "ret = set1 & set2\n",
        "print(ret)"
      ],
      "metadata": {
        "colab": {
          "base_uri": "https://localhost:8080/"
        },
        "id": "fPv3pcRId4R4",
        "outputId": "4cdac2e4-52f2-4742-9064-7069b6d7e6be"
      },
      "execution_count": 4,
      "outputs": [
        {
          "output_type": "stream",
          "name": "stdout",
          "text": [
            "{'a', 'b', 'r'}\n"
          ]
        }
      ]
    },
    {
      "cell_type": "code",
      "source": [
        "ret = set1 - set2\n",
        "print(ret)"
      ],
      "metadata": {
        "colab": {
          "base_uri": "https://localhost:8080/"
        },
        "id": "OnuMK5A1eASd",
        "outputId": "521b9c78-c491-41a4-c9b8-8c01120ede64"
      },
      "execution_count": 5,
      "outputs": [
        {
          "output_type": "stream",
          "name": "stdout",
          "text": [
            "{'c', 'd'}\n"
          ]
        }
      ]
    },
    {
      "cell_type": "code",
      "source": [
        "ret = set1 ^ set2\n",
        "print(ret)"
      ],
      "metadata": {
        "colab": {
          "base_uri": "https://localhost:8080/"
        },
        "id": "nf0Ssv99eNN2",
        "outputId": "da7b6174-8cdf-4ec4-dce7-fdb336173fb7"
      },
      "execution_count": 6,
      "outputs": [
        {
          "output_type": "stream",
          "name": "stdout",
          "text": [
            "{'t', 'e', 'o', 'n', 'i', 'c', 'd', 'v'}\n"
          ]
        }
      ]
    },
    {
      "cell_type": "code",
      "source": [
        "ret = set1 <= set2\n",
        "print(ret)"
      ],
      "metadata": {
        "colab": {
          "base_uri": "https://localhost:8080/"
        },
        "id": "8ps6Fz6zeSNq",
        "outputId": "0792d5e4-3b09-47a7-e140-720bcff71865"
      },
      "execution_count": 7,
      "outputs": [
        {
          "output_type": "stream",
          "name": "stdout",
          "text": [
            "False\n"
          ]
        }
      ]
    },
    {
      "cell_type": "code",
      "source": [
        "set1 |= set2      # set1 | set2의 결과를 set1으로 업데이트\n",
        "set1 &= set2      # set1 & set2의 결과를 set1으로 업데이트\n",
        "set1 -= set2      # set1 - set2의 결과를 set1으로 업데이트\n",
        "set1 ^= set2      # set1 ^ set2의 결과를 set1으로 업데이트"
      ],
      "metadata": {
        "id": "ExsK5XaSeW3f"
      },
      "execution_count": 9,
      "outputs": []
    },
    {
      "cell_type": "markdown",
      "source": [
        "# 99 set에 요소 추가 : *set*.add ()"
      ],
      "metadata": {
        "id": "nG3-V4iLe9dX"
      }
    },
    {
      "cell_type": "code",
      "source": [
        "fruits = {'사과', '배', '오렌지', '수박'}\n",
        "fruits.add('딸기')\n",
        "print(fruits)"
      ],
      "metadata": {
        "colab": {
          "base_uri": "https://localhost:8080/"
        },
        "id": "W6odORq2fEZ6",
        "outputId": "3d2e9f18-a866-49b0-cff3-4e52c83f265b"
      },
      "execution_count": 11,
      "outputs": [
        {
          "output_type": "stream",
          "name": "stdout",
          "text": [
            "{'오렌지', '딸기', '수박', '사과', '배'}\n"
          ]
        }
      ]
    },
    {
      "cell_type": "code",
      "source": [
        "fruits.add('배')\n",
        "print(fruits)"
      ],
      "metadata": {
        "colab": {
          "base_uri": "https://localhost:8080/"
        },
        "id": "lHLYgzRzfaI8",
        "outputId": "dcf7fa39-6bf3-42cd-ccc3-a09bd74f4f71"
      },
      "execution_count": 13,
      "outputs": [
        {
          "output_type": "stream",
          "name": "stdout",
          "text": [
            "{'오렌지', '딸기', '수박', '사과', '배'}\n"
          ]
        }
      ]
    }
  ]
}