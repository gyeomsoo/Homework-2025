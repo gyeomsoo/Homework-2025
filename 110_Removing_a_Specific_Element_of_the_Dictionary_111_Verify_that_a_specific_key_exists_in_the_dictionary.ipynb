{
  "nbformat": 4,
  "nbformat_minor": 0,
  "metadata": {
    "colab": {
      "provenance": [],
      "include_colab_link": true
    },
    "kernelspec": {
      "name": "python3",
      "display_name": "Python 3"
    },
    "language_info": {
      "name": "python"
    }
  },
  "cells": [
    {
      "cell_type": "markdown",
      "metadata": {
        "id": "view-in-github",
        "colab_type": "text"
      },
      "source": [
        "<a href=\"https://colab.research.google.com/github/gyeomsoo/Homework-2025/blob/main/110_Removing_a_Specific_Element_of_the_Dictionary_111_Verify_that_a_specific_key_exists_in_the_dictionary.ipynb\" target=\"_parent\"><img src=\"https://colab.research.google.com/assets/colab-badge.svg\" alt=\"Open In Colab\"/></a>"
      ]
    },
    {
      "cell_type": "markdown",
      "source": [
        "# 110 딕셔너리의 특정 요소 제거하기 : del *d*[*key*]"
      ],
      "metadata": {
        "id": "Bx2cSkVhsBc5"
      }
    },
    {
      "cell_type": "code",
      "source": [
        "names = {'Mary':10999, 'Cris':2111, 'Aimy':9778, 'Tom':20245}\n",
        "del names['Mary']\n",
        "print(names)"
      ],
      "metadata": {
        "colab": {
          "base_uri": "https://localhost:8080/"
        },
        "id": "TjmU9eDrsJGu",
        "outputId": "7b40f09d-1318-419c-9739-2e8173e6e16e"
      },
      "execution_count": 1,
      "outputs": [
        {
          "output_type": "stream",
          "name": "stdout",
          "text": [
            "{'Cris': 2111, 'Aimy': 9778, 'Tom': 20245}\n"
          ]
        }
      ]
    },
    {
      "cell_type": "code",
      "source": [
        "del names['Sams']\n",
        "print(names)"
      ],
      "metadata": {
        "colab": {
          "base_uri": "https://localhost:8080/",
          "height": 166
        },
        "id": "IGerqTHmsrro",
        "outputId": "394a6b18-33e0-4d6c-9d6d-679e2811b262"
      },
      "execution_count": 2,
      "outputs": [
        {
          "output_type": "error",
          "ename": "KeyError",
          "evalue": "'Sams'",
          "traceback": [
            "\u001b[0;31m---------------------------------------------------------------------------\u001b[0m",
            "\u001b[0;31mKeyError\u001b[0m                                  Traceback (most recent call last)",
            "\u001b[0;32m/tmp/ipython-input-3761204987.py\u001b[0m in \u001b[0;36m<cell line: 0>\u001b[0;34m()\u001b[0m\n\u001b[0;32m----> 1\u001b[0;31m \u001b[0;32mdel\u001b[0m \u001b[0mnames\u001b[0m\u001b[0;34m[\u001b[0m\u001b[0;34m'Sams'\u001b[0m\u001b[0;34m]\u001b[0m\u001b[0;34m\u001b[0m\u001b[0;34m\u001b[0m\u001b[0m\n\u001b[0m\u001b[1;32m      2\u001b[0m \u001b[0mprint\u001b[0m\u001b[0;34m(\u001b[0m\u001b[0mnames\u001b[0m\u001b[0;34m)\u001b[0m\u001b[0;34m\u001b[0m\u001b[0;34m\u001b[0m\u001b[0m\n",
            "\u001b[0;31mKeyError\u001b[0m: 'Sams'"
          ]
        }
      ]
    },
    {
      "cell_type": "markdown",
      "source": [
        "# 111 딕셔너리에 특정 키가 존재하는지 확인 : *key* in *d*"
      ],
      "metadata": {
        "id": "4kDIFm3Os0WN"
      }
    },
    {
      "cell_type": "code",
      "source": [
        "names = {'Mary':10999, 'Cris':2111, 'Aimy':9778, 'Tom':20245}\n",
        "name = input('이름을 입력하세요.')\n",
        "if name in names:\n",
        "  print(f'이름이 <{name}>인 출생아수는 <{names[name]:,d}>명 입니다.')\n",
        "else:\n",
        "  print(f'딕셔너리 name에 출생아수는 <{name}>인 이름이 존재하지 않습니다.')"
      ],
      "metadata": {
        "colab": {
          "base_uri": "https://localhost:8080/"
        },
        "id": "K-GkIHi9s8Uq",
        "outputId": "b13778ff-f919-4e97-805a-580e865580ca"
      },
      "execution_count": 4,
      "outputs": [
        {
          "output_type": "stream",
          "name": "stdout",
          "text": [
            "이름을 입력하세요.Sams\n",
            "딕셔너리 name에 출생아수는 <Sams>인 이름이 존재하지 않습니다.\n"
          ]
        }
      ]
    }
  ]
}