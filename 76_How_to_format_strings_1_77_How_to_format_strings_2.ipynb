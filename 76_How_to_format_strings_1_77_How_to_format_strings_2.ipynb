{
  "nbformat": 4,
  "nbformat_minor": 0,
  "metadata": {
    "colab": {
      "provenance": [],
      "include_colab_link": true
    },
    "kernelspec": {
      "name": "python3",
      "display_name": "Python 3"
    },
    "language_info": {
      "name": "python"
    }
  },
  "cells": [
    {
      "cell_type": "markdown",
      "metadata": {
        "id": "view-in-github",
        "colab_type": "text"
      },
      "source": [
        "<a href=\"https://colab.research.google.com/github/gyeomsoo/Homework-2025/blob/main/76_How_to_format_strings_1_77_How_to_format_strings_2.ipynb\" target=\"_parent\"><img src=\"https://colab.research.google.com/assets/colab-badge.svg\" alt=\"Open In Colab\"/></a>"
      ]
    },
    {
      "cell_type": "markdown",
      "source": [
        "# 76 문자열 포맷팅 방법 1 : f ' '"
      ],
      "metadata": {
        "id": "7-mS_vZqrtKO"
      }
    },
    {
      "cell_type": "code",
      "source": [
        "title = '원주율'\n",
        "pi = 3.141592\n",
        "print(f'{title}의 근사값은 {pi}입니다.')"
      ],
      "metadata": {
        "id": "DYXVHU6Vryou"
      },
      "execution_count": 28,
      "outputs": []
    },
    {
      "cell_type": "code",
      "source": [
        "print(f'{title}의 근사값은 {pi:.2f}입니다.')"
      ],
      "metadata": {
        "id": "ylLtiOOJr-Y2"
      },
      "execution_count": 28,
      "outputs": []
    },
    {
      "cell_type": "code",
      "source": [
        "city = '서울'\n",
        "population = 8789911\n",
        "print(f'{city}: {population:,d}명')"
      ],
      "metadata": {
        "id": "a2e-wdehsLi0"
      },
      "execution_count": 28,
      "outputs": []
    },
    {
      "cell_type": "code",
      "source": [
        "print(f'{city}: {population=:,d}명')"
      ],
      "metadata": {
        "id": "-hQyZ2LXsdFq"
      },
      "execution_count": 28,
      "outputs": []
    },
    {
      "cell_type": "markdown",
      "source": [
        "# 77 문자열 포맷팅 방법 2 : str.format ()"
      ],
      "metadata": {
        "id": "lrHVxVXism3T"
      }
    },
    {
      "cell_type": "code",
      "source": [
        "pi = 3.141592\n",
        "text = '{}의 근사값은 {}입니다.'.format('원주율', pi)\n",
        "print(text)"
      ],
      "metadata": {
        "id": "L8qtg70Quxr2"
      },
      "execution_count": 28,
      "outputs": []
    },
    {
      "cell_type": "code",
      "source": [
        "print('{}의 근사값은 {:.2f} 입니다'.format('원주율',pi))"
      ],
      "metadata": {
        "id": "gQMBgqaNtJ8y"
      },
      "execution_count": 29,
      "outputs": []
    },
    {
      "cell_type": "code",
      "source": [
        "population = 8789911\n",
        "text = '{}: {:,d}명', format('서울', population)\n",
        "print(text)"
      ],
      "metadata": {
        "id": "ygiMse_VvHkk"
      },
      "execution_count": 30,
      "outputs": []
    }
  ]
}