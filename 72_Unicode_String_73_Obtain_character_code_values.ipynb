{
  "nbformat": 4,
  "nbformat_minor": 0,
  "metadata": {
    "colab": {
      "provenance": [],
      "include_colab_link": true
    },
    "kernelspec": {
      "name": "python3",
      "display_name": "Python 3"
    },
    "language_info": {
      "name": "python"
    }
  },
  "cells": [
    {
      "cell_type": "markdown",
      "metadata": {
        "id": "view-in-github",
        "colab_type": "text"
      },
      "source": [
        "<a href=\"https://colab.research.google.com/github/gyeomsoo/Homework-2025/blob/main/72_Unicode_String_73_Obtain_character_code_values.ipynb\" target=\"_parent\"><img src=\"https://colab.research.google.com/assets/colab-badge.svg\" alt=\"Open In Colab\"/></a>"
      ]
    },
    {
      "cell_type": "markdown",
      "source": [
        "# 72 유니코드 문자열"
      ],
      "metadata": {
        "id": "P55a9Ik6NG-V"
      }
    },
    {
      "cell_type": "code",
      "source": [
        "strData1 = 'I love python!'    # 유니코드 문자열\n",
        "strData2 = \"사랑해요 파이썬!\"  # 유니코드 문자열\n",
        "strData3 = \"\"\"A lot of things\n",
        "occur each day.\"\"\"             # 유니코드 문자열"
      ],
      "metadata": {
        "id": "NQo6_vbXNNGf"
      },
      "execution_count": null,
      "outputs": []
    },
    {
      "cell_type": "markdown",
      "source": [
        "# 73 문자 코드값 구하기"
      ],
      "metadata": {
        "id": "C7SDHpkQN_OK"
      }
    },
    {
      "cell_type": "code",
      "source": [
        "while True:\n",
        "  ch = input('문자 1개를 입력하세요[끝내려면 엔터를 치세요]:')\n",
        "  if len(ch) == 0:\n",
        "    break\n",
        "  ch = ch[0]\n",
        "  code = ord(ch)\n",
        "  print(f'-->문자 \"{ch}\"의 코드값: {hex(code)}')\n",
        ""
      ],
      "metadata": {
        "colab": {
          "base_uri": "https://localhost:8080/"
        },
        "id": "pfGOdyldOFjo",
        "outputId": "32fef393-b89b-4500-db81-943c77642e07"
      },
      "execution_count": 1,
      "outputs": [
        {
          "name": "stdout",
          "output_type": "stream",
          "text": [
            "문자 1개를 입력하세요[끝내려면 엔터를 치세요]:A\n",
            "-->문자 \"A\"의 코드값: 0x41\n",
            "문자 1개를 입력하세요[끝내려면 엔터를 치세요]:가\n",
            "-->문자 \"가\"의 코드값: 0xac00\n",
            "문자 1개를 입력하세요[끝내려면 엔터를 치세요]:@\n",
            "-->문자 \"@\"의 코드값: 0x40\n",
            "문자 1개를 입력하세요[끝내려면 엔터를 치세요]:\n"
          ]
        }
      ]
    }
  ]
}