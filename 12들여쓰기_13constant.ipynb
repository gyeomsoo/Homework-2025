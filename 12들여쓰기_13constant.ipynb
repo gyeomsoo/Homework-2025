{
  "nbformat": 4,
  "nbformat_minor": 0,
  "metadata": {
    "colab": {
      "provenance": [],
      "include_colab_link": true
    },
    "kernelspec": {
      "name": "python3",
      "display_name": "Python 3"
    },
    "language_info": {
      "name": "python"
    }
  },
  "cells": [
    {
      "cell_type": "markdown",
      "metadata": {
        "id": "view-in-github",
        "colab_type": "text"
      },
      "source": [
        "<a href=\"https://colab.research.google.com/github/gyeomsoo/Homework-2025/blob/main/12%EB%93%A4%EC%97%AC%EC%93%B0%EA%B8%B0_13constant.ipynb\" target=\"_parent\"><img src=\"https://colab.research.google.com/assets/colab-badge.svg\" alt=\"Open In Colab\"/></a>"
      ]
    },
    {
      "cell_type": "markdown",
      "source": [
        "# 12 들여쓰기"
      ],
      "metadata": {
        "id": "T1FYMzxpt4Zr"
      }
    },
    {
      "cell_type": "code",
      "source": [
        "listData = ['a', 'b', 'c']\n",
        "if 'a' in listData:\n",
        "  print('\"a\"가 1istData에 요소로 존재합니다.')\n",
        "else:\n",
        "  print('\"a\"가 1istData에 요소로 존재하지 않습니다.')"
      ],
      "metadata": {
        "colab": {
          "base_uri": "https://localhost:8080/"
        },
        "id": "NgUraFDaoI7z",
        "outputId": "84030ea0-78ad-440e-b8c1-5621385b54e0"
      },
      "execution_count": 29,
      "outputs": [
        {
          "output_type": "stream",
          "name": "stdout",
          "text": [
            "\"a\"가 1istData에 요소로 존재합니다.\n"
          ]
        }
      ]
    },
    {
      "cell_type": "code",
      "source": [
        "listData = ['a', 'b', 'c']\n",
        "if 'a' in listData: print('\"a\"가 listData에 요소로 존재합니다.')"
      ],
      "metadata": {
        "colab": {
          "base_uri": "https://localhost:8080/"
        },
        "id": "uHaJlS2OpucD",
        "outputId": "3906d1bd-6709-4808-8005-c56f831d7a4f"
      },
      "execution_count": 23,
      "outputs": [
        {
          "output_type": "stream",
          "name": "stdout",
          "text": [
            "\"a\"가 listData에 요소로 존재합니다.\n"
          ]
        }
      ]
    },
    {
      "cell_type": "code",
      "source": [
        "  listData = ['a', 'b', 'c']\n",
        "if 'a' in listData:\n",
        "  print('\"a\"가 1istData에 요소로 존재합니다.')\n",
        "else:\n",
        "  print('\"a\"가 1istData에 요소로 존재하지 않습니다.')"
      ],
      "metadata": {
        "colab": {
          "base_uri": "https://localhost:8080/",
          "height": 110
        },
        "id": "HleR_UHUqJJr",
        "outputId": "9f101b36-59f4-44f2-a1e4-c2ad8137fdbd"
      },
      "execution_count": 38,
      "outputs": [
        {
          "output_type": "error",
          "ename": "IndentationError",
          "evalue": "expected an indented block after 'if' statement on line 2 (ipython-input-3672810383.py, line 3)",
          "traceback": [
            "\u001b[0;36m  File \u001b[0;32m\"/tmp/ipython-input-3672810383.py\"\u001b[0;36m, line \u001b[0;32m3\u001b[0m\n\u001b[0;31m    print('\"a\"가 1istData에 요소로 존재합니다.')\u001b[0m\n\u001b[0m    ^\u001b[0m\n\u001b[0;31mIndentationError\u001b[0m\u001b[0;31m:\u001b[0m expected an indented block after 'if' statement on line 2\n"
          ]
        }
      ]
    },
    {
      "cell_type": "code",
      "source": [
        "listData = ['a', 'b', 'c']\n",
        "if 'a' in listData:\n",
        "  print('\"a\"가 1istData에 요소로 존재합니다.')\n",
        "   print('프로그램을 종료합니다.')\n",
        "else:\n",
        "  print('\"a\"가 1istData에 요소로 존재하지 않습니다.')"
      ],
      "metadata": {
        "colab": {
          "base_uri": "https://localhost:8080/",
          "height": 110
        },
        "id": "0VpaFSCfsgar",
        "outputId": "611de1ec-8621-4c54-fde4-b473f4764ce9"
      },
      "execution_count": 41,
      "outputs": [
        {
          "output_type": "error",
          "ename": "IndentationError",
          "evalue": "unexpected indent (ipython-input-2584009839.py, line 4)",
          "traceback": [
            "\u001b[0;36m  File \u001b[0;32m\"/tmp/ipython-input-2584009839.py\"\u001b[0;36m, line \u001b[0;32m4\u001b[0m\n\u001b[0;31m    print('프로그램을 종료합니다.')\u001b[0m\n\u001b[0m    ^\u001b[0m\n\u001b[0;31mIndentationError\u001b[0m\u001b[0;31m:\u001b[0m unexpected indent\n"
          ]
        }
      ]
    },
    {
      "cell_type": "markdown",
      "source": [
        "# 13 None 상수"
      ],
      "metadata": {
        "id": "pboR04BxtzUr"
      }
    },
    {
      "cell_type": "code",
      "source": [
        "val = None\n",
        "flag = True\n",
        "if flag:\n",
        "  val = [1, 2, 3, 4, 5]\n",
        "else:\n",
        "  val = '안녕하세요 파이썬!'"
      ],
      "metadata": {
        "id": "jlbXbBXlt8mH"
      },
      "execution_count": 43,
      "outputs": []
    }
  ]
}