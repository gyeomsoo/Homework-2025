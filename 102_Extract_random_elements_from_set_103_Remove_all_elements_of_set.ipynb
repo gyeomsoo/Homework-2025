{
  "nbformat": 4,
  "nbformat_minor": 0,
  "metadata": {
    "colab": {
      "provenance": [],
      "include_colab_link": true
    },
    "kernelspec": {
      "name": "python3",
      "display_name": "Python 3"
    },
    "language_info": {
      "name": "python"
    }
  },
  "cells": [
    {
      "cell_type": "markdown",
      "metadata": {
        "id": "view-in-github",
        "colab_type": "text"
      },
      "source": [
        "<a href=\"https://colab.research.google.com/github/gyeomsoo/Homework-2025/blob/main/102_Extract_random_elements_from_set_103_Remove_all_elements_of_set.ipynb\" target=\"_parent\"><img src=\"https://colab.research.google.com/assets/colab-badge.svg\" alt=\"Open In Colab\"/></a>"
      ]
    },
    {
      "cell_type": "markdown",
      "source": [
        "# 102 set에서 랜덤 요소 추출 : *set*.pop ()"
      ],
      "metadata": {
        "id": "hKpJBrNRhPiW"
      }
    },
    {
      "cell_type": "code",
      "source": [
        "fruits = {'사과', '배', '오렌지', '수박'}\n",
        "choise = fruits.pop()\n",
        "print(f'++ 추출한 요소: {choise}\\n++ fruits: {fruits}')"
      ],
      "metadata": {
        "colab": {
          "base_uri": "https://localhost:8080/"
        },
        "id": "R0SPv4nFhVof",
        "outputId": "6050750d-4e04-494a-b451-0e4f1e1271e3"
      },
      "execution_count": 1,
      "outputs": [
        {
          "output_type": "stream",
          "name": "stdout",
          "text": [
            "++ 추출한 요소: 오렌지\n",
            "++ fruits: {'배', '수박', '사과'}\n"
          ]
        }
      ]
    },
    {
      "cell_type": "code",
      "source": [
        "for _ in range(len(fruits)):\n",
        "  choise = fruits.pop()\n",
        "  print(f'++ 추출한 요소: {choise}\\n++ fruits: {fruits}')\n",
        "choise = fruits.pop()"
      ],
      "metadata": {
        "colab": {
          "base_uri": "https://localhost:8080/",
          "height": 294
        },
        "id": "JRAuriUQhtMS",
        "outputId": "21b48c61-7503-4e90-f63e-5c323b2246c2"
      },
      "execution_count": 2,
      "outputs": [
        {
          "output_type": "stream",
          "name": "stdout",
          "text": [
            "++ 추출한 요소: 배\n",
            "++ fruits: {'수박', '사과'}\n",
            "++ 추출한 요소: 수박\n",
            "++ fruits: {'사과'}\n",
            "++ 추출한 요소: 사과\n",
            "++ fruits: set()\n"
          ]
        },
        {
          "output_type": "error",
          "ename": "KeyError",
          "evalue": "'pop from an empty set'",
          "traceback": [
            "\u001b[0;31m---------------------------------------------------------------------------\u001b[0m",
            "\u001b[0;31mKeyError\u001b[0m                                  Traceback (most recent call last)",
            "\u001b[0;32m/tmp/ipython-input-605584392.py\u001b[0m in \u001b[0;36m<cell line: 0>\u001b[0;34m()\u001b[0m\n\u001b[1;32m      2\u001b[0m   \u001b[0mchoise\u001b[0m \u001b[0;34m=\u001b[0m \u001b[0mfruits\u001b[0m\u001b[0;34m.\u001b[0m\u001b[0mpop\u001b[0m\u001b[0;34m(\u001b[0m\u001b[0;34m)\u001b[0m\u001b[0;34m\u001b[0m\u001b[0;34m\u001b[0m\u001b[0m\n\u001b[1;32m      3\u001b[0m   \u001b[0mprint\u001b[0m\u001b[0;34m(\u001b[0m\u001b[0;34mf'++ 추출한 요소: {choise}\\n++ fruits: {fruits}'\u001b[0m\u001b[0;34m)\u001b[0m\u001b[0;34m\u001b[0m\u001b[0;34m\u001b[0m\u001b[0m\n\u001b[0;32m----> 4\u001b[0;31m \u001b[0mchoise\u001b[0m \u001b[0;34m=\u001b[0m \u001b[0mfruits\u001b[0m\u001b[0;34m.\u001b[0m\u001b[0mpop\u001b[0m\u001b[0;34m(\u001b[0m\u001b[0;34m)\u001b[0m\u001b[0;34m\u001b[0m\u001b[0;34m\u001b[0m\u001b[0m\n\u001b[0m",
            "\u001b[0;31mKeyError\u001b[0m: 'pop from an empty set'"
          ]
        }
      ]
    },
    {
      "cell_type": "markdown",
      "source": [
        "# 103 set의 모든 요소 제거 : *set*.clear ()"
      ],
      "metadata": {
        "id": "6w1rSDzRimgC"
      }
    },
    {
      "cell_type": "code",
      "source": [
        "set1 = set('abradacabra')\n",
        "set2 = set('arirangsong')\n",
        "set1 &= set2\n",
        "set2.clear()\n",
        "print(f'set1={set1}, set2={set2}')"
      ],
      "metadata": {
        "colab": {
          "base_uri": "https://localhost:8080/"
        },
        "id": "fu5Y8Vihix0o",
        "outputId": "937a70d6-2429-4e93-cfdb-afdf8dd63a57"
      },
      "execution_count": 3,
      "outputs": [
        {
          "output_type": "stream",
          "name": "stdout",
          "text": [
            "set1={'r', 'a'}, set2=set()\n"
          ]
        }
      ]
    }
  ]
}