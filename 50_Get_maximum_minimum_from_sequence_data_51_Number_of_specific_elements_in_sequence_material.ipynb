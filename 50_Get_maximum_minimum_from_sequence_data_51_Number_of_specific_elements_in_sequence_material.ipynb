{
  "nbformat": 4,
  "nbformat_minor": 0,
  "metadata": {
    "colab": {
      "provenance": [],
      "include_colab_link": true
    },
    "kernelspec": {
      "name": "python3",
      "display_name": "Python 3"
    },
    "language_info": {
      "name": "python"
    }
  },
  "cells": [
    {
      "cell_type": "markdown",
      "metadata": {
        "id": "view-in-github",
        "colab_type": "text"
      },
      "source": [
        "<a href=\"https://colab.research.google.com/github/gyeomsoo/Homework-2025/blob/main/50_Get_maximum_minimum_from_sequence_data_51_Number_of_specific_elements_in_sequence_material.ipynb\" target=\"_parent\"><img src=\"https://colab.research.google.com/assets/colab-badge.svg\" alt=\"Open In Colab\"/></a>"
      ]
    },
    {
      "cell_type": "markdown",
      "source": [
        "# 50 시퀀스 자료에서 최대/최소 구하기 : max (), min ()"
      ],
      "metadata": {
        "id": "ol08-XCDkTFk"
      }
    },
    {
      "cell_type": "code",
      "source": [
        "listData = [9.96, 1.27, 5.07, 6.45, 8.38, 9.29, 4.93, 7.73, 3.71, 0.93]\n",
        "print(max(listData))\n",
        "print(min(listData))"
      ],
      "metadata": {
        "colab": {
          "base_uri": "https://localhost:8080/"
        },
        "id": "oKJ9rERokeQf",
        "outputId": "d30686f2-e321-49cc-9b62-ead1f9d4c4ca"
      },
      "execution_count": 1,
      "outputs": [
        {
          "output_type": "stream",
          "name": "stdout",
          "text": [
            "9.96\n",
            "0.93\n"
          ]
        }
      ]
    },
    {
      "cell_type": "code",
      "source": [
        "strData = 'AlotofThingsOccurEachday'\n",
        "print(max(strData))\n",
        "print(min(strData))"
      ],
      "metadata": {
        "colab": {
          "base_uri": "https://localhost:8080/"
        },
        "id": "wMOw2PQJkgeV",
        "outputId": "c502ad9f-9f4a-4257-d535-7e09809a12f6"
      },
      "execution_count": 3,
      "outputs": [
        {
          "output_type": "stream",
          "name": "stdout",
          "text": [
            "y\n",
            "A\n"
          ]
        }
      ]
    },
    {
      "cell_type": "code",
      "source": [
        "strList = ['jang', 'apple12', '3sung', 'sam']\n",
        "print(max(strList))\n",
        "print(min(strList))"
      ],
      "metadata": {
        "colab": {
          "base_uri": "https://localhost:8080/"
        },
        "id": "s5x2tX6XlJ2Y",
        "outputId": "ff95f6a3-71b5-4c4a-f611-ff13414967fa"
      },
      "execution_count": 5,
      "outputs": [
        {
          "output_type": "stream",
          "name": "stdout",
          "text": [
            "sam\n",
            "3sung\n"
          ]
        }
      ]
    },
    {
      "cell_type": "code",
      "source": [
        "list1 = [1, 2, 3, 'a', 'b', 'c']\n",
        "print(max(list1))"
      ],
      "metadata": {
        "colab": {
          "base_uri": "https://localhost:8080/",
          "height": 166
        },
        "id": "Z48Kdqk6lgr4",
        "outputId": "e78f9a96-8237-453e-c060-1a47e3c92fef"
      },
      "execution_count": 6,
      "outputs": [
        {
          "output_type": "error",
          "ename": "TypeError",
          "evalue": "'>' not supported between instances of 'str' and 'int'",
          "traceback": [
            "\u001b[0;31m---------------------------------------------------------------------------\u001b[0m",
            "\u001b[0;31mTypeError\u001b[0m                                 Traceback (most recent call last)",
            "\u001b[0;32m/tmp/ipython-input-2918305942.py\u001b[0m in \u001b[0;36m<cell line: 0>\u001b[0;34m()\u001b[0m\n\u001b[1;32m      1\u001b[0m \u001b[0mlist1\u001b[0m \u001b[0;34m=\u001b[0m \u001b[0;34m[\u001b[0m\u001b[0;36m1\u001b[0m\u001b[0;34m,\u001b[0m \u001b[0;36m2\u001b[0m\u001b[0;34m,\u001b[0m \u001b[0;36m3\u001b[0m\u001b[0;34m,\u001b[0m \u001b[0;34m'a'\u001b[0m\u001b[0;34m,\u001b[0m \u001b[0;34m'b'\u001b[0m\u001b[0;34m,\u001b[0m \u001b[0;34m'c'\u001b[0m\u001b[0;34m]\u001b[0m\u001b[0;34m\u001b[0m\u001b[0;34m\u001b[0m\u001b[0m\n\u001b[0;32m----> 2\u001b[0;31m \u001b[0mprint\u001b[0m\u001b[0;34m(\u001b[0m\u001b[0mmax\u001b[0m\u001b[0;34m(\u001b[0m\u001b[0mlist1\u001b[0m\u001b[0;34m)\u001b[0m\u001b[0;34m)\u001b[0m\u001b[0;34m\u001b[0m\u001b[0;34m\u001b[0m\u001b[0m\n\u001b[0m",
            "\u001b[0;31mTypeError\u001b[0m: '>' not supported between instances of 'str' and 'int'"
          ]
        }
      ]
    },
    {
      "cell_type": "markdown",
      "source": [
        "# 51 시퀀스 자료에서 특정 요소 개수 : s.count ()"
      ],
      "metadata": {
        "id": "8oK9QyxYlssE"
      }
    },
    {
      "cell_type": "code",
      "source": [
        "lyrics = 'A lot of things occur each day! every day!'\n",
        "print(lyrics.count('o'))\n"
      ],
      "metadata": {
        "colab": {
          "base_uri": "https://localhost:8080/"
        },
        "id": "QR3Dw6WNmD38",
        "outputId": "861441fa-2c0c-47ef-9ffb-43ae8fe95479"
      },
      "execution_count": 7,
      "outputs": [
        {
          "output_type": "stream",
          "name": "stdout",
          "text": [
            "3\n"
          ]
        }
      ]
    },
    {
      "cell_type": "code",
      "source": [
        "lyrics = 'A lot of things occur each day! every day!'\n",
        "print(lyrics.count('day'))"
      ],
      "metadata": {
        "colab": {
          "base_uri": "https://localhost:8080/"
        },
        "id": "_1isjTNHmShE",
        "outputId": "06c0b7ee-1dd8-4c12-d183-272ab740e42d"
      },
      "execution_count": 8,
      "outputs": [
        {
          "output_type": "stream",
          "name": "stdout",
          "text": [
            "2\n"
          ]
        }
      ]
    },
    {
      "cell_type": "code",
      "source": [
        "lyrics = 'A lot of things occur each day! every day!'\n",
        "print(lyrics.count(' '))"
      ],
      "metadata": {
        "colab": {
          "base_uri": "https://localhost:8080/"
        },
        "id": "pqu1hka3mWzm",
        "outputId": "ddb6b519-e24a-44fb-b961-1fc8f455c09e"
      },
      "execution_count": 10,
      "outputs": [
        {
          "output_type": "stream",
          "name": "stdout",
          "text": [
            "8\n"
          ]
        }
      ]
    },
    {
      "cell_type": "code",
      "source": [
        "listData = [1, 6, 1, 4, 8, 4, 12, 1, 0, 9, 9, 7, 4, 3, 6, 7, 3, 2]\n",
        "print(listData.count(1))"
      ],
      "metadata": {
        "colab": {
          "base_uri": "https://localhost:8080/"
        },
        "id": "UB-TfTCIma2F",
        "outputId": "df05f772-07ad-433b-cede-edc6ede45188"
      },
      "execution_count": 12,
      "outputs": [
        {
          "output_type": "stream",
          "name": "stdout",
          "text": [
            "3\n"
          ]
        }
      ]
    }
  ]
}