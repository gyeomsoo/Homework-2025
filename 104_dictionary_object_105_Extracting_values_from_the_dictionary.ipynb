{
  "nbformat": 4,
  "nbformat_minor": 0,
  "metadata": {
    "colab": {
      "provenance": [],
      "include_colab_link": true
    },
    "kernelspec": {
      "name": "python3",
      "display_name": "Python 3"
    },
    "language_info": {
      "name": "python"
    }
  },
  "cells": [
    {
      "cell_type": "markdown",
      "metadata": {
        "id": "view-in-github",
        "colab_type": "text"
      },
      "source": [
        "<a href=\"https://colab.research.google.com/github/gyeomsoo/Homework-2025/blob/main/104_dictionary_object_105_Extracting_values_from_the_dictionary.ipynb\" target=\"_parent\"><img src=\"https://colab.research.google.com/assets/colab-badge.svg\" alt=\"Open In Colab\"/></a>"
      ]
    },
    {
      "cell_type": "markdown",
      "source": [
        "# 104 딕셔너리 객체 : dict ()"
      ],
      "metadata": {
        "id": "r3VHtxE3jr3n"
      }
    },
    {
      "cell_type": "code",
      "source": [
        "population = {'서울':9407840, '부산':3320276, '인천':2964820}"
      ],
      "metadata": {
        "id": "kH57svsdjvon"
      },
      "execution_count": 2,
      "outputs": []
    },
    {
      "cell_type": "code",
      "source": [
        "population = dict(서울=9407840, 부산=3320276, 인천=2964820)\n",
        "print(population)"
      ],
      "metadata": {
        "colab": {
          "base_uri": "https://localhost:8080/"
        },
        "id": "lFZTl_FpkCHV",
        "outputId": "b85bd8a1-99ef-4934-c4b0-06ea4cccd4c2"
      },
      "execution_count": 3,
      "outputs": [
        {
          "output_type": "stream",
          "name": "stdout",
          "text": [
            "{'서울': 9407840, '부산': 3320276, '인천': 2964820}\n"
          ]
        }
      ]
    },
    {
      "cell_type": "code",
      "source": [
        "population = dict([('서울',9407840), ('부산',3320276), ('인천',2964820)])\n",
        "print(population)"
      ],
      "metadata": {
        "colab": {
          "base_uri": "https://localhost:8080/"
        },
        "id": "j664nyUSkT7r",
        "outputId": "9bf9402e-7ec4-4fd8-dd45-eacb9acd0c6b"
      },
      "execution_count": 4,
      "outputs": [
        {
          "output_type": "stream",
          "name": "stdout",
          "text": [
            "{'서울': 9407840, '부산': 3320276, '인천': 2964820}\n"
          ]
        }
      ]
    },
    {
      "cell_type": "markdown",
      "source": [
        "# 105 딕셔너리에서 값 추출하기 1 : *d*[*key*]"
      ],
      "metadata": {
        "id": "jEkdCzq-kveQ"
      }
    },
    {
      "cell_type": "code",
      "source": [
        "population = {'서울':9407840, '부산':3320276, '인천':2964820}\n",
        "pnum = population['서울']\n",
        "print(f'2022년 기준 서울의 인구는 {pnum:,d}명 입니다.')"
      ],
      "metadata": {
        "colab": {
          "base_uri": "https://localhost:8080/"
        },
        "id": "f_1mYb16k8j0",
        "outputId": "f60e804f-0931-4cfe-daa0-2725ca25079c"
      },
      "execution_count": 5,
      "outputs": [
        {
          "output_type": "stream",
          "name": "stdout",
          "text": [
            "2022년 기준 서울의 인구는 9,407,840명 입니다.\n"
          ]
        }
      ]
    },
    {
      "cell_type": "code",
      "source": [
        "orddict = {97:'a', 98:'b', 99:'c'}\n",
        "print(f'ASCII 코드 97은 문자 {orddict[97]}에 대응됩니다.')"
      ],
      "metadata": {
        "colab": {
          "base_uri": "https://localhost:8080/"
        },
        "id": "QVAnVwZqlQb7",
        "outputId": "7bfa1c62-2fb9-4b78-bfe9-0ad6e7ac1599"
      },
      "execution_count": 9,
      "outputs": [
        {
          "output_type": "stream",
          "name": "stdout",
          "text": [
            "ASCII 코드 97은 문자 a에 대응됩니다.\n"
          ]
        }
      ]
    },
    {
      "cell_type": "code",
      "source": [
        "ret = orddict[95]"
      ],
      "metadata": {
        "colab": {
          "base_uri": "https://localhost:8080/",
          "height": 147
        },
        "id": "xr0GSQA2ms4-",
        "outputId": "0de5f37e-ccfd-4256-8395-259bae02ed73"
      },
      "execution_count": 10,
      "outputs": [
        {
          "output_type": "error",
          "ename": "KeyError",
          "evalue": "95",
          "traceback": [
            "\u001b[0;31m---------------------------------------------------------------------------\u001b[0m",
            "\u001b[0;31mKeyError\u001b[0m                                  Traceback (most recent call last)",
            "\u001b[0;32m/tmp/ipython-input-2380799019.py\u001b[0m in \u001b[0;36m<cell line: 0>\u001b[0;34m()\u001b[0m\n\u001b[0;32m----> 1\u001b[0;31m \u001b[0mret\u001b[0m \u001b[0;34m=\u001b[0m \u001b[0morddict\u001b[0m\u001b[0;34m[\u001b[0m\u001b[0;36m95\u001b[0m\u001b[0;34m]\u001b[0m\u001b[0;34m\u001b[0m\u001b[0;34m\u001b[0m\u001b[0m\n\u001b[0m",
            "\u001b[0;31mKeyError\u001b[0m: 95"
          ]
        }
      ]
    }
  ]
}