{
  "nbformat": 4,
  "nbformat_minor": 0,
  "metadata": {
    "colab": {
      "provenance": [],
      "include_colab_link": true
    },
    "kernelspec": {
      "name": "python3",
      "display_name": "Python 3"
    },
    "language_info": {
      "name": "python"
    }
  },
  "cells": [
    {
      "cell_type": "markdown",
      "metadata": {
        "id": "view-in-github",
        "colab_type": "text"
      },
      "source": [
        "<a href=\"https://colab.research.google.com/github/gyeomsoo/Homework-2025/blob/main/106_Extracting_values_from_the_dictionary_107_Replace_all_keys_in_the_dictionary_with_a_list.ipynb\" target=\"_parent\"><img src=\"https://colab.research.google.com/assets/colab-badge.svg\" alt=\"Open In Colab\"/></a>"
      ]
    },
    {
      "cell_type": "markdown",
      "source": [
        "# 106 딕셔너리에서 값 추출하기 2 : *d*.get ()"
      ],
      "metadata": {
        "id": "nrHe-c1_nh5p"
      }
    },
    {
      "cell_type": "code",
      "source": [
        "names = {'Mary':10999, 'Cris':2111, 'Aimy':9778, 'Tom':20245}\n",
        "ret1 = names.get('Cris')\n",
        "ret2 = names.get('Sams')"
      ],
      "metadata": {
        "id": "f09RXbaNnpir"
      },
      "execution_count": 4,
      "outputs": []
    },
    {
      "cell_type": "code",
      "source": [
        "ret1 = names.get('Cris', 0)\n",
        "ret2 = names.get('Sams', 0)\n",
        "print(f'ret1 = {ret1}, ret2 = {ret2}')"
      ],
      "metadata": {
        "colab": {
          "base_uri": "https://localhost:8080/"
        },
        "id": "2liFTZ48oEzk",
        "outputId": "fc89070d-a4c9-499b-ffcd-312bdecaebfe"
      },
      "execution_count": 5,
      "outputs": [
        {
          "output_type": "stream",
          "name": "stdout",
          "text": [
            "ret1 = 2111, ret2 = 0\n"
          ]
        }
      ]
    },
    {
      "cell_type": "markdown",
      "source": [
        "# 107 딕셔너리의 모든 키를 리스트로 만들기 : list(*d*)"
      ],
      "metadata": {
        "id": "R_RncBEMosq0"
      }
    },
    {
      "cell_type": "code",
      "source": [
        "names = {'Mary':10999, 'Cris':2111, 'Aimy':9778, 'Tom':20245}\n",
        "nameList = list(names)\n",
        "print(nameList)"
      ],
      "metadata": {
        "colab": {
          "base_uri": "https://localhost:8080/"
        },
        "id": "ud95nuM8ozXK",
        "outputId": "8eccd573-4d49-43fd-f32e-20a191b02de5"
      },
      "execution_count": 6,
      "outputs": [
        {
          "output_type": "stream",
          "name": "stdout",
          "text": [
            "['Mary', 'Cris', 'Aimy', 'Tom']\n"
          ]
        }
      ]
    }
  ]
}