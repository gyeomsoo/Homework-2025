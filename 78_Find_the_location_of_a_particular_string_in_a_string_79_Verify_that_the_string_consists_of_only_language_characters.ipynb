{
  "nbformat": 4,
  "nbformat_minor": 0,
  "metadata": {
    "colab": {
      "provenance": [],
      "include_colab_link": true
    },
    "kernelspec": {
      "name": "python3",
      "display_name": "Python 3"
    },
    "language_info": {
      "name": "python"
    }
  },
  "cells": [
    {
      "cell_type": "markdown",
      "metadata": {
        "id": "view-in-github",
        "colab_type": "text"
      },
      "source": [
        "<a href=\"https://colab.research.google.com/github/gyeomsoo/Homework-2025/blob/main/78_Find_the_location_of_a_particular_string_in_a_string_79_Verify_that_the_string_consists_of_only_language_characters.ipynb\" target=\"_parent\"><img src=\"https://colab.research.google.com/assets/colab-badge.svg\" alt=\"Open In Colab\"/></a>"
      ]
    },
    {
      "cell_type": "markdown",
      "source": [
        "# 78 문자열에서 특정 문자열 위치 찾기 : *str*.find ()"
      ],
      "metadata": {
        "id": "4Ad86tb4vweZ"
      }
    },
    {
      "cell_type": "code",
      "source": [
        "sample = 'A lot of things occur each day, it\\'s very dynamical every day.'\n",
        "pos = sample.find('day')\n",
        "print(pos)"
      ],
      "metadata": {
        "colab": {
          "base_uri": "https://localhost:8080/"
        },
        "id": "B1cTuEI7v1Em",
        "outputId": "e30aa05c-c84f-4de7-da23-073bcb56cf1b"
      },
      "execution_count": 1,
      "outputs": [
        {
          "output_type": "stream",
          "name": "stdout",
          "text": [
            "27\n"
          ]
        }
      ]
    },
    {
      "cell_type": "code",
      "source": [
        "spos = 0\n",
        "idx = 0\n",
        "count = 1\n",
        "while idx != -1:\n",
        "  idx = sample.find('day', spos)\n",
        "  print(f'\"day\"가 발견된 [{count}]번쨰 인덱스 {idx}')\n",
        "  spos = idx + 1\n",
        "  count += 1"
      ],
      "metadata": {
        "colab": {
          "base_uri": "https://localhost:8080/"
        },
        "id": "O9B4xHoVw1HF",
        "outputId": "d354f697-f6d8-4cd3-909e-af10c6a98e39"
      },
      "execution_count": 5,
      "outputs": [
        {
          "output_type": "stream",
          "name": "stdout",
          "text": [
            "\"day\"가 발견된 [1]번쨰 인덱스 27\n",
            "\"day\"가 발견된 [2]번쨰 인덱스 58\n",
            "\"day\"가 발견된 [3]번쨰 인덱스 -1\n"
          ]
        }
      ]
    },
    {
      "cell_type": "markdown",
      "source": [
        "# 79 문자열이 언어 문자로만 구성되었는지 확인 *str*.isalpha ()"
      ],
      "metadata": {
        "id": "lFL4Qc5oxN6F"
      }
    },
    {
      "cell_type": "code",
      "source": [
        "strList = ['hello', '오징어게임', '파이썬 lover', '안녕!', '제3세계']"
      ],
      "metadata": {
        "id": "LSvIQhnHxkQ4"
      },
      "execution_count": 9,
      "outputs": []
    },
    {
      "cell_type": "code",
      "source": [
        "for text in strList:\n",
        "  print(f'\"{text}\"\\t--> {text.isalpha()}')"
      ],
      "metadata": {
        "colab": {
          "base_uri": "https://localhost:8080/"
        },
        "id": "AUzHB-FKxzhA",
        "outputId": "420e0c6c-97b3-4891-8604-937be0cb6f80"
      },
      "execution_count": 10,
      "outputs": [
        {
          "output_type": "stream",
          "name": "stdout",
          "text": [
            "\"hello\"\t--> True\n",
            "\"오징어게임\"\t--> True\n",
            "\"파이썬 lover\"\t--> False\n",
            "\"안녕!\"\t--> False\n",
            "\"제3세계\"\t--> False\n"
          ]
        }
      ]
    }
  ]
}