{
  "nbformat": 4,
  "nbformat_minor": 0,
  "metadata": {
    "colab": {
      "provenance": [],
      "include_colab_link": true
    },
    "kernelspec": {
      "name": "python3",
      "display_name": "Python 3"
    },
    "language_info": {
      "name": "python"
    }
  },
  "cells": [
    {
      "cell_type": "markdown",
      "metadata": {
        "id": "view-in-github",
        "colab_type": "text"
      },
      "source": [
        "<a href=\"https://colab.research.google.com/github/gyeomsoo/Homework-2025/blob/main/100_Remove_an_element_from_the_set_1_101_Remove_an_element_from_the_set_2.ipynb\" target=\"_parent\"><img src=\"https://colab.research.google.com/assets/colab-badge.svg\" alt=\"Open In Colab\"/></a>"
      ]
    },
    {
      "cell_type": "markdown",
      "source": [
        "# 100 set에서 요소 제거 1 : *set*.remove ()"
      ],
      "metadata": {
        "id": "nZbK_14kf1ao"
      }
    },
    {
      "cell_type": "code",
      "source": [
        "fruits = {'사과', '배', '오렌지', '수박'}\n",
        "fruits.remove('사과')\n",
        "print(fruits)"
      ],
      "metadata": {
        "colab": {
          "base_uri": "https://localhost:8080/"
        },
        "id": "sNsnZpIBgPCc",
        "outputId": "e6eae85a-a468-4e8b-f064-e2fb2a85c809"
      },
      "execution_count": 1,
      "outputs": [
        {
          "output_type": "stream",
          "name": "stdout",
          "text": [
            "{'수박', '오렌지', '배'}\n"
          ]
        }
      ]
    },
    {
      "cell_type": "code",
      "source": [
        "fruits.remove('딸기')"
      ],
      "metadata": {
        "colab": {
          "base_uri": "https://localhost:8080/",
          "height": 147
        },
        "id": "kI7kRSrAgXhI",
        "outputId": "bd68d06d-ba0f-4e36-e3ea-cb9ae5c922a8"
      },
      "execution_count": 2,
      "outputs": [
        {
          "output_type": "error",
          "ename": "KeyError",
          "evalue": "'딸기'",
          "traceback": [
            "\u001b[0;31m---------------------------------------------------------------------------\u001b[0m",
            "\u001b[0;31mKeyError\u001b[0m                                  Traceback (most recent call last)",
            "\u001b[0;32m/tmp/ipython-input-954756110.py\u001b[0m in \u001b[0;36m<cell line: 0>\u001b[0;34m()\u001b[0m\n\u001b[0;32m----> 1\u001b[0;31m \u001b[0mfruits\u001b[0m\u001b[0;34m.\u001b[0m\u001b[0mremove\u001b[0m\u001b[0;34m(\u001b[0m\u001b[0;34m'딸기'\u001b[0m\u001b[0;34m)\u001b[0m\u001b[0;34m\u001b[0m\u001b[0;34m\u001b[0m\u001b[0m\n\u001b[0m",
            "\u001b[0;31mKeyError\u001b[0m: '딸기'"
          ]
        }
      ]
    },
    {
      "cell_type": "markdown",
      "source": [
        "# 101 set에서 요소 제거 2 : *set*.discard ()"
      ],
      "metadata": {
        "id": "V9PcLnewgfOu"
      }
    },
    {
      "cell_type": "code",
      "source": [
        "fruits = {'사과', '배', '오렌지', '수박'}\n",
        "fruits.discard('사과')\n",
        "print(fruits)\n",
        "fruits.discard('딸기')\n",
        "print(fruits)"
      ],
      "metadata": {
        "colab": {
          "base_uri": "https://localhost:8080/"
        },
        "id": "ir6C1IK8gmuS",
        "outputId": "d30920e0-7675-463b-9549-6cbc9ef68ce8"
      },
      "execution_count": 3,
      "outputs": [
        {
          "output_type": "stream",
          "name": "stdout",
          "text": [
            "{'수박', '오렌지', '배'}\n",
            "{'수박', '오렌지', '배'}\n"
          ]
        }
      ]
    }
  ]
}