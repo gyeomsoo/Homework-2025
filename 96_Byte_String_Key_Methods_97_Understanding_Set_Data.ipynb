{
  "nbformat": 4,
  "nbformat_minor": 0,
  "metadata": {
    "colab": {
      "provenance": [],
      "include_colab_link": true
    },
    "kernelspec": {
      "name": "python3",
      "display_name": "Python 3"
    },
    "language_info": {
      "name": "python"
    }
  },
  "cells": [
    {
      "cell_type": "markdown",
      "metadata": {
        "id": "view-in-github",
        "colab_type": "text"
      },
      "source": [
        "<a href=\"https://colab.research.google.com/github/gyeomsoo/Homework-2025/blob/main/96_Byte_String_Key_Methods_97_Understanding_Set_Data.ipynb\" target=\"_parent\"><img src=\"https://colab.research.google.com/assets/colab-badge.svg\" alt=\"Open In Colab\"/></a>"
      ]
    },
    {
      "cell_type": "markdown",
      "source": [
        "# 96 바이트 문자열 주요 메서드들"
      ],
      "metadata": {
        "id": "_LY26OzPaBuZ"
      }
    },
    {
      "cell_type": "code",
      "source": [
        "bytesData = b'abcdef'\n",
        "data = bytesData.replace(b'ab', b'AB')\n",
        "print(data)"
      ],
      "metadata": {
        "colab": {
          "base_uri": "https://localhost:8080/"
        },
        "id": "L5QLRdgEaGcy",
        "outputId": "fb3daef7-0353-48e5-b29a-eab633892147"
      },
      "execution_count": 1,
      "outputs": [
        {
          "output_type": "stream",
          "name": "stdout",
          "text": [
            "b'ABcdef'\n"
          ]
        }
      ]
    },
    {
      "cell_type": "code",
      "source": [
        "bytesData = b'abcdefabcdef'\n",
        "idx1 = bytesData.find(b'e')\n",
        "idx2 = bytesData.find(b'e',idx1+1)\n",
        "print(idx1, idx2)"
      ],
      "metadata": {
        "colab": {
          "base_uri": "https://localhost:8080/"
        },
        "id": "E7uOnHEsawIm",
        "outputId": "1701ce95-31ad-459a-fd13-f8515a83f85e"
      },
      "execution_count": 2,
      "outputs": [
        {
          "output_type": "stream",
          "name": "stdout",
          "text": [
            "4 10\n"
          ]
        }
      ]
    },
    {
      "cell_type": "code",
      "source": [
        "bytesData = b'abcdef'\n",
        "bytesData = bytesData.strip()\n",
        "print(bytesData)"
      ],
      "metadata": {
        "colab": {
          "base_uri": "https://localhost:8080/"
        },
        "id": "ORhO0_egbMzG",
        "outputId": "14d0c1bb-173b-43a1-f0ed-ad992c7a2154"
      },
      "execution_count": 4,
      "outputs": [
        {
          "output_type": "stream",
          "name": "stdout",
          "text": [
            "b'abcdef'\n"
          ]
        }
      ]
    },
    {
      "cell_type": "markdown",
      "source": [
        "# 97 set 자료 이해하기"
      ],
      "metadata": {
        "id": "lS8u39UQbXie"
      }
    },
    {
      "cell_type": "code",
      "source": [
        "setData = ['사과', '배', '사과', '수박', '오렌지']\n",
        "print(setData)"
      ],
      "metadata": {
        "colab": {
          "base_uri": "https://localhost:8080/"
        },
        "id": "Kr1hgWECbsHU",
        "outputId": "7608bab6-9ea0-45cc-d9b4-2ce5a96f677a"
      },
      "execution_count": 14,
      "outputs": [
        {
          "output_type": "stream",
          "name": "stdout",
          "text": [
            "['사과', '배', '사과', '수박', '오렌지']\n"
          ]
        }
      ]
    },
    {
      "cell_type": "code",
      "source": [
        "print(setData)"
      ],
      "metadata": {
        "colab": {
          "base_uri": "https://localhost:8080/"
        },
        "id": "dsDC4DhNbzS9",
        "outputId": "e794ec2b-b1bb-4465-e7ed-e7c5a3cee15b"
      },
      "execution_count": 8,
      "outputs": [
        {
          "output_type": "stream",
          "name": "stdout",
          "text": [
            "['사과', '배', '사과', '수박', '오렌지']\n"
          ]
        }
      ]
    },
    {
      "cell_type": "code",
      "source": [
        "strData = 'abcabccdef'\n",
        "setData = set(strData)\n",
        "print(setData)"
      ],
      "metadata": {
        "colab": {
          "base_uri": "https://localhost:8080/"
        },
        "id": "aBtpwStHb-PG",
        "outputId": "f9ce2b02-5347-4f35-aa9d-60a3b84a7eb6"
      },
      "execution_count": 12,
      "outputs": [
        {
          "output_type": "stream",
          "name": "stdout",
          "text": [
            "{'f', 'c', 'e', 'd', 'a', 'b'}\n"
          ]
        }
      ]
    },
    {
      "cell_type": "code",
      "source": [
        "fruits = {'사과', '배', '수박', '배', '사과', '오렌지'}\n",
        "setData = set(fruits)\n",
        "print(setData)"
      ],
      "metadata": {
        "colab": {
          "base_uri": "https://localhost:8080/"
        },
        "id": "wU-3ze-ucN_1",
        "outputId": "c56b1c60-3d31-4184-82ff-a39d0da28a34"
      },
      "execution_count": 16,
      "outputs": [
        {
          "output_type": "stream",
          "name": "stdout",
          "text": [
            "{'사과', '배', '수박', '오렌지'}\n"
          ]
        }
      ]
    }
  ]
}