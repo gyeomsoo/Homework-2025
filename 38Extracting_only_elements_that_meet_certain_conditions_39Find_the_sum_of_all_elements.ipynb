{
  "nbformat": 4,
  "nbformat_minor": 0,
  "metadata": {
    "colab": {
      "provenance": [],
      "include_colab_link": true
    },
    "kernelspec": {
      "name": "python3",
      "display_name": "Python 3"
    },
    "language_info": {
      "name": "python"
    }
  },
  "cells": [
    {
      "cell_type": "markdown",
      "metadata": {
        "id": "view-in-github",
        "colab_type": "text"
      },
      "source": [
        "<a href=\"https://colab.research.google.com/github/gyeomsoo/Homework-2025/blob/main/38Extracting_only_elements_that_meet_certain_conditions_39Find_the_sum_of_all_elements.ipynb\" target=\"_parent\"><img src=\"https://colab.research.google.com/assets/colab-badge.svg\" alt=\"Open In Colab\"/></a>"
      ]
    },
    {
      "cell_type": "markdown",
      "source": [
        "# 38 특정 조건을 만족하는 요소만 추출하기 : filter ()"
      ],
      "metadata": {
        "id": "yRK-bxTr_SU5"
      }
    },
    {
      "cell_type": "code",
      "source": [
        "filter(fune, irerable)"
      ],
      "metadata": {
        "id": "JnMbAaIz_Q88"
      },
      "execution_count": null,
      "outputs": []
    },
    {
      "cell_type": "code",
      "source": [
        "def getPrime(x):\n",
        "  if x == 2:\n",
        "    return True\n",
        "  if x <+ 1 or x%2 == 0:\n",
        "    return False\n",
        "\n",
        "  for i in range(3, int(x**(1/2))+1, 2):\n",
        "      if x%1 == 0:\n",
        "        return False\n",
        "\n",
        "  else:\n",
        "    return True"
      ],
      "metadata": {
        "id": "ZFsBIjKX_dXn"
      },
      "execution_count": 1,
      "outputs": []
    },
    {
      "cell_type": "code",
      "source": [
        "intList = [x for x in range(1, 101)]\n",
        "ret = filter(getPrime, intList)\n",
        "for p in ret:\n",
        "  print(p, end=' ')"
      ],
      "metadata": {
        "colab": {
          "base_uri": "https://localhost:8080/"
        },
        "id": "tQvJA_5PASMZ",
        "outputId": "bd15f8a3-f3e9-44ca-c8ec-f26e0068eb52"
      },
      "execution_count": 12,
      "outputs": [
        {
          "output_type": "stream",
          "name": "stdout",
          "text": [
            "1 2 3 5 7 "
          ]
        }
      ]
    },
    {
      "cell_type": "markdown",
      "source": [
        "# 모든 요소 총합 구하기 : sum ()"
      ],
      "metadata": {
        "id": "GFDRwYax_RGy"
      }
    },
    {
      "cell_type": "code",
      "source": [
        "numList = [1, 3, 5, 7, 9]\n",
        "ret = sum(numList)\n",
        "print(ret)"
      ],
      "metadata": {
        "colab": {
          "base_uri": "https://localhost:8080/"
        },
        "id": "eTeJOLltARHs",
        "outputId": "d92aa564-c89a-4320-e766-a2bf310b9f69"
      },
      "execution_count": 13,
      "outputs": [
        {
          "output_type": "stream",
          "name": "stdout",
          "text": [
            "25\n"
          ]
        }
      ]
    },
    {
      "cell_type": "code",
      "source": [
        "ret = sum(numList, 10)\n",
        "print(ret)"
      ],
      "metadata": {
        "colab": {
          "base_uri": "https://localhost:8080/"
        },
        "id": "Akduajm6CGbn",
        "outputId": "583c102d-fb6a-49f0-a220-aea87cddf2ad"
      },
      "execution_count": 14,
      "outputs": [
        {
          "output_type": "stream",
          "name": "stdout",
          "text": [
            "35\n"
          ]
        }
      ]
    },
    {
      "cell_type": "code",
      "source": [
        "randomList = [1, 2, 'SAMSUNG', 'LG']\n",
        "ret = sum(randomList)"
      ],
      "metadata": {
        "colab": {
          "base_uri": "https://localhost:8080/",
          "height": 166
        },
        "id": "IDurD0ZPCLgJ",
        "outputId": "1f29babc-294c-4168-a329-2296d01c292c"
      },
      "execution_count": 15,
      "outputs": [
        {
          "output_type": "error",
          "ename": "TypeError",
          "evalue": "unsupported operand type(s) for +: 'int' and 'str'",
          "traceback": [
            "\u001b[0;31m---------------------------------------------------------------------------\u001b[0m",
            "\u001b[0;31mTypeError\u001b[0m                                 Traceback (most recent call last)",
            "\u001b[0;32m/tmp/ipython-input-381321004.py\u001b[0m in \u001b[0;36m<cell line: 0>\u001b[0;34m()\u001b[0m\n\u001b[1;32m      1\u001b[0m \u001b[0mrandomList\u001b[0m \u001b[0;34m=\u001b[0m \u001b[0;34m[\u001b[0m\u001b[0;36m1\u001b[0m\u001b[0;34m,\u001b[0m \u001b[0;36m2\u001b[0m\u001b[0;34m,\u001b[0m \u001b[0;34m'SAMSUNG'\u001b[0m\u001b[0;34m,\u001b[0m \u001b[0;34m'LG'\u001b[0m\u001b[0;34m]\u001b[0m\u001b[0;34m\u001b[0m\u001b[0;34m\u001b[0m\u001b[0m\n\u001b[0;32m----> 2\u001b[0;31m \u001b[0mret\u001b[0m \u001b[0;34m=\u001b[0m \u001b[0msum\u001b[0m\u001b[0;34m(\u001b[0m\u001b[0mrandomList\u001b[0m\u001b[0;34m)\u001b[0m\u001b[0;34m\u001b[0m\u001b[0;34m\u001b[0m\u001b[0m\n\u001b[0m",
            "\u001b[0;31mTypeError\u001b[0m: unsupported operand type(s) for +: 'int' and 'str'"
          ]
        }
      ]
    }
  ]
}